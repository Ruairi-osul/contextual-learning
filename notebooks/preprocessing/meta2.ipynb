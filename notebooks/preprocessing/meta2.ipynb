{
 "cells": [
  {
   "cell_type": "code",
   "execution_count": 2,
   "source": [
    "from context_analysis.utils import get_default_data_dir\r\n",
    "import pandas as pd"
   ],
   "outputs": [],
   "metadata": {}
  },
  {
   "cell_type": "code",
   "execution_count": 8,
   "source": [
    "data_dir = get_default_data_dir()\r\n",
    "df_pfc = pd.read_excel(data_dir / \"meta.xlsx\", sheet_name=1)\r\n",
    "df_pfc = df_pfc[[\"ID\", \"Group\", \"Cohort\"]].drop_duplicates()\r\n",
    "df_pfc = df_pfc.rename(columns={\r\n",
    "    \"ID\": \"mouse\", \"Group\":\"group\", \"Cohort\": \"cohort\"\r\n",
    "})\r\n",
    "df_pfc.to_parquet(data_dir / \"pfc\" / \"mice.parquet.gzip\", compression=\"gzip\", index=False)"
   ],
   "outputs": [],
   "metadata": {}
  },
  {
   "cell_type": "code",
   "execution_count": 9,
   "source": [
    "data_dir = get_default_data_dir()\r\n",
    "df_pfc = pd.read_excel(data_dir / \"meta.xlsx\", sheet_name=0)\r\n",
    "df_pfc = df_pfc[[\"ID\", \"Group\", \"Cohort\"]].drop_duplicates()\r\n",
    "df_pfc = df_pfc.rename(columns={\r\n",
    "    \"ID\": \"mouse\", \"Group\":\"group\", \"Cohort\": \"cohort\"\r\n",
    "})\r\n",
    "df_pfc.to_parquet(data_dir / \"pilot\" / \"mice.parquet.gzip\", compression=\"gzip\", index=False)"
   ],
   "outputs": [],
   "metadata": {}
  },
  {
   "cell_type": "code",
   "execution_count": null,
   "source": [],
   "outputs": [],
   "metadata": {}
  }
 ],
 "metadata": {
  "orig_nbformat": 4,
  "language_info": {
   "name": "python",
   "version": "3.9.6",
   "mimetype": "text/x-python",
   "codemirror_mode": {
    "name": "ipython",
    "version": 3
   },
   "pygments_lexer": "ipython3",
   "nbconvert_exporter": "python",
   "file_extension": ".py"
  },
  "kernelspec": {
   "name": "python3",
   "display_name": "Python 3.9.6 64-bit ('cyl': conda)"
  },
  "interpreter": {
   "hash": "931c67f3d67c81c2a9a8a2f2e44420a4f8bb92e7428f2c348068d1e47b0e1e40"
  }
 },
 "nbformat": 4,
 "nbformat_minor": 2
}