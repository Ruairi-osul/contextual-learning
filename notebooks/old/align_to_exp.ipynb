{
 "metadata": {
  "language_info": {
   "codemirror_mode": {
    "name": "ipython",
    "version": 3
   },
   "file_extension": ".py",
   "mimetype": "text/x-python",
   "name": "python",
   "nbconvert_exporter": "python",
   "pygments_lexer": "ipython3",
   "version": "3.7.10"
  },
  "orig_nbformat": 2,
  "kernelspec": {
   "name": "python3710jvsc74a57bd0d0f40f2d32f5417abda4707e1ba7fddc947bcdf903e99c62ff9366ef2b9105a9",
   "display_name": "Python 3.7.10 64-bit ('utils': conda)"
  }
 },
 "nbformat": 4,
 "nbformat_minor": 2,
 "cells": [
  {
   "cell_type": "code",
   "execution_count": 12,
   "metadata": {},
   "outputs": [],
   "source": [
    "import numpy as np\n",
    "from pathlib import Path\n",
    "import pandas as pd\n",
    "# import spiketimes\n",
    "from spiketimes.df.binning import which_bin\n",
    "from spiketimes.df.alignment import align_around\n"
   ]
  },
  {
   "cell_type": "code",
   "execution_count": 36,
   "metadata": {},
   "outputs": [],
   "source": [
    "MICE = [\n",
    "    {\"name\": \"B51618\", \"path\": Path(r\"E:\\exports\\B51618\"), \"group\": \"exp\"},\n",
    "    {\"name\": \"B51622\", \"path\": Path(r\"E:\\exports\\B51622\"), \"group\": \"no shock\"},\n",
    "    {\"name\": \"B51629\", \"path\": Path(r\"E:\\exports\\B51629\"), \"group\": \"one context\"}\n",
    "]\n",
    "SHOCK = np.array([240, 300, 360, 420, 480, 540])\n",
    "CONTEXTS = np.arange(6) * 120\n",
    "CONTEXT_NAMES = [\"safe\", \"shock\"]"
   ]
  },
  {
   "cell_type": "code",
   "execution_count": 62,
   "metadata": {},
   "outputs": [],
   "source": [
    "def load_day3_df(p):\n",
    "    return pd.read_csv(p / \"day3-noon\" / \"traces_updated.csv\")\n",
    "\n",
    "def load_day4_df(p):\n",
    "    return (\n",
    "        pd.read_csv(p / \"day4-test1\" / \"traces_updated.csv\")\n",
    "        .pipe(lambda x: \n",
    "            which_bin(x, CONTEXTS, spiketimes_col=\"time\").assign(context= lambda x: x.bin_idx.apply(lambda x: CONTEXT_NAMES[int(x % 2)]))\n",
    "        )\n",
    "    )\n",
    "\n",
    "def load(loader):\n",
    "    dfs = []\n",
    "    for d in MICE:\n",
    "        dfs.append(\n",
    "            loader(d[\"path\"]).assign(name=d[\"name\"], group=d[\"group\"])\n",
    "        )\n",
    "    return pd.concat(dfs)\n"
   ]
  },
  {
   "cell_type": "code",
   "execution_count": 63,
   "metadata": {},
   "outputs": [
    {
     "output_type": "execute_result",
     "data": {
      "text/plain": [
       "            time  session_cell_id     value  cell_id  local_cellset_index  \\\n",
       "2302  230.020444                0  73.06292        0                    0   \n",
       "2303  230.120366                0  79.84438        0                    0   \n",
       "2304  230.220288                0  90.00584        0                    0   \n",
       "2305  230.320210                0  91.78522        0                    0   \n",
       "\n",
       "        name group   aligned  \n",
       "2302  B51618   exp -9.979556  \n",
       "2303  B51618   exp -9.879634  \n",
       "2304  B51618   exp -9.779712  \n",
       "2305  B51618   exp -9.679790  "
      ],
      "text/html": "<div>\n<style scoped>\n    .dataframe tbody tr th:only-of-type {\n        vertical-align: middle;\n    }\n\n    .dataframe tbody tr th {\n        vertical-align: top;\n    }\n\n    .dataframe thead th {\n        text-align: right;\n    }\n</style>\n<table border=\"1\" class=\"dataframe\">\n  <thead>\n    <tr style=\"text-align: right;\">\n      <th></th>\n      <th>time</th>\n      <th>session_cell_id</th>\n      <th>value</th>\n      <th>cell_id</th>\n      <th>local_cellset_index</th>\n      <th>name</th>\n      <th>group</th>\n      <th>aligned</th>\n    </tr>\n  </thead>\n  <tbody>\n    <tr>\n      <th>2302</th>\n      <td>230.020444</td>\n      <td>0</td>\n      <td>73.06292</td>\n      <td>0</td>\n      <td>0</td>\n      <td>B51618</td>\n      <td>exp</td>\n      <td>-9.979556</td>\n    </tr>\n    <tr>\n      <th>2303</th>\n      <td>230.120366</td>\n      <td>0</td>\n      <td>79.84438</td>\n      <td>0</td>\n      <td>0</td>\n      <td>B51618</td>\n      <td>exp</td>\n      <td>-9.879634</td>\n    </tr>\n    <tr>\n      <th>2304</th>\n      <td>230.220288</td>\n      <td>0</td>\n      <td>90.00584</td>\n      <td>0</td>\n      <td>0</td>\n      <td>B51618</td>\n      <td>exp</td>\n      <td>-9.779712</td>\n    </tr>\n    <tr>\n      <th>2305</th>\n      <td>230.320210</td>\n      <td>0</td>\n      <td>91.78522</td>\n      <td>0</td>\n      <td>0</td>\n      <td>B51618</td>\n      <td>exp</td>\n      <td>-9.679790</td>\n    </tr>\n  </tbody>\n</table>\n</div>"
     },
     "metadata": {},
     "execution_count": 63
    }
   ],
   "source": [
    "# day3\n",
    "\n",
    "df_d3 = load(loader=load_day3_df)\n",
    "align_around(df_d3, data_colname=\"time\", events=SHOCK, t_before=10, max_latency=10).dropna().head(4)"
   ]
  },
  {
   "cell_type": "code",
   "execution_count": 64,
   "metadata": {},
   "outputs": [],
   "source": [
    "# day4\n",
    "df_d4 = load(loader=load_day4_df)"
   ]
  },
  {
   "cell_type": "code",
   "execution_count": 66,
   "metadata": {},
   "outputs": [
    {
     "output_type": "execute_result",
     "data": {
      "text/plain": [
       "              time  session_cell_id     value  cell_id  local_cellset_index  \\\n",
       "0         0.000000                0  23.30407       22                    1   \n",
       "1         0.099922                0  32.12091       22                    1   \n",
       "2         0.199844                0  37.35959       22                    1   \n",
       "3         0.299766                0  37.64541       22                    1   \n",
       "4         0.399688                0  38.37547       22                    1   \n",
       "...            ...              ...       ...      ...                  ...   \n",
       "319831  725.833408              101  16.85463       65                    1   \n",
       "319832  725.933330              101  17.17459       65                    1   \n",
       "319833  726.033252              101  15.80440       65                    1   \n",
       "319834  726.133174              101  16.53741       65                    1   \n",
       "319835  726.233096              101  16.60366       65                    1   \n",
       "\n",
       "        bin_idx  bin_values context    name        group  \n",
       "0           0.0         0.0    safe  B51618          exp  \n",
       "1           0.0         0.0    safe  B51618          exp  \n",
       "2           0.0         0.0    safe  B51618          exp  \n",
       "3           0.0         0.0    safe  B51618          exp  \n",
       "4           0.0         0.0    safe  B51618          exp  \n",
       "...         ...         ...     ...     ...          ...  \n",
       "319831      5.0       600.0   shock  B51629  one context  \n",
       "319832      5.0       600.0   shock  B51629  one context  \n",
       "319833      5.0       600.0   shock  B51629  one context  \n",
       "319834      5.0       600.0   shock  B51629  one context  \n",
       "319835      5.0       600.0   shock  B51629  one context  \n",
       "\n",
       "[1487516 rows x 10 columns]"
      ],
      "text/html": "<div>\n<style scoped>\n    .dataframe tbody tr th:only-of-type {\n        vertical-align: middle;\n    }\n\n    .dataframe tbody tr th {\n        vertical-align: top;\n    }\n\n    .dataframe thead th {\n        text-align: right;\n    }\n</style>\n<table border=\"1\" class=\"dataframe\">\n  <thead>\n    <tr style=\"text-align: right;\">\n      <th></th>\n      <th>time</th>\n      <th>session_cell_id</th>\n      <th>value</th>\n      <th>cell_id</th>\n      <th>local_cellset_index</th>\n      <th>bin_idx</th>\n      <th>bin_values</th>\n      <th>context</th>\n      <th>name</th>\n      <th>group</th>\n    </tr>\n  </thead>\n  <tbody>\n    <tr>\n      <th>0</th>\n      <td>0.000000</td>\n      <td>0</td>\n      <td>23.30407</td>\n      <td>22</td>\n      <td>1</td>\n      <td>0.0</td>\n      <td>0.0</td>\n      <td>safe</td>\n      <td>B51618</td>\n      <td>exp</td>\n    </tr>\n    <tr>\n      <th>1</th>\n      <td>0.099922</td>\n      <td>0</td>\n      <td>32.12091</td>\n      <td>22</td>\n      <td>1</td>\n      <td>0.0</td>\n      <td>0.0</td>\n      <td>safe</td>\n      <td>B51618</td>\n      <td>exp</td>\n    </tr>\n    <tr>\n      <th>2</th>\n      <td>0.199844</td>\n      <td>0</td>\n      <td>37.35959</td>\n      <td>22</td>\n      <td>1</td>\n      <td>0.0</td>\n      <td>0.0</td>\n      <td>safe</td>\n      <td>B51618</td>\n      <td>exp</td>\n    </tr>\n    <tr>\n      <th>3</th>\n      <td>0.299766</td>\n      <td>0</td>\n      <td>37.64541</td>\n      <td>22</td>\n      <td>1</td>\n      <td>0.0</td>\n      <td>0.0</td>\n      <td>safe</td>\n      <td>B51618</td>\n      <td>exp</td>\n    </tr>\n    <tr>\n      <th>4</th>\n      <td>0.399688</td>\n      <td>0</td>\n      <td>38.37547</td>\n      <td>22</td>\n      <td>1</td>\n      <td>0.0</td>\n      <td>0.0</td>\n      <td>safe</td>\n      <td>B51618</td>\n      <td>exp</td>\n    </tr>\n    <tr>\n      <th>...</th>\n      <td>...</td>\n      <td>...</td>\n      <td>...</td>\n      <td>...</td>\n      <td>...</td>\n      <td>...</td>\n      <td>...</td>\n      <td>...</td>\n      <td>...</td>\n      <td>...</td>\n    </tr>\n    <tr>\n      <th>319831</th>\n      <td>725.833408</td>\n      <td>101</td>\n      <td>16.85463</td>\n      <td>65</td>\n      <td>1</td>\n      <td>5.0</td>\n      <td>600.0</td>\n      <td>shock</td>\n      <td>B51629</td>\n      <td>one context</td>\n    </tr>\n    <tr>\n      <th>319832</th>\n      <td>725.933330</td>\n      <td>101</td>\n      <td>17.17459</td>\n      <td>65</td>\n      <td>1</td>\n      <td>5.0</td>\n      <td>600.0</td>\n      <td>shock</td>\n      <td>B51629</td>\n      <td>one context</td>\n    </tr>\n    <tr>\n      <th>319833</th>\n      <td>726.033252</td>\n      <td>101</td>\n      <td>15.80440</td>\n      <td>65</td>\n      <td>1</td>\n      <td>5.0</td>\n      <td>600.0</td>\n      <td>shock</td>\n      <td>B51629</td>\n      <td>one context</td>\n    </tr>\n    <tr>\n      <th>319834</th>\n      <td>726.133174</td>\n      <td>101</td>\n      <td>16.53741</td>\n      <td>65</td>\n      <td>1</td>\n      <td>5.0</td>\n      <td>600.0</td>\n      <td>shock</td>\n      <td>B51629</td>\n      <td>one context</td>\n    </tr>\n    <tr>\n      <th>319835</th>\n      <td>726.233096</td>\n      <td>101</td>\n      <td>16.60366</td>\n      <td>65</td>\n      <td>1</td>\n      <td>5.0</td>\n      <td>600.0</td>\n      <td>shock</td>\n      <td>B51629</td>\n      <td>one context</td>\n    </tr>\n  </tbody>\n</table>\n<p>1487516 rows × 10 columns</p>\n</div>"
     },
     "metadata": {},
     "execution_count": 66
    }
   ],
   "source": [
    "df_d4"
   ]
  },
  {
   "cell_type": "code",
   "execution_count": null,
   "metadata": {},
   "outputs": [],
   "source": []
  }
 ]
}