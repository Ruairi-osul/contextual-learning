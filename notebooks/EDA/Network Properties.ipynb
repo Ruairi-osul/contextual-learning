{
 "cells": [
  {
   "cell_type": "markdown",
   "id": "4573bec8",
   "metadata": {},
   "source": [
    "# Network Properties\n",
    "\n",
    "## Plan\n",
    "\n",
    "- Load data from a known good exp mouse and a no context mouse\n",
    "- Calculate node-wide and network-wide metrics\n",
    "- Identify putitive metrics which vary"
   ]
  },
  {
   "cell_type": "code",
   "execution_count": 27,
   "id": "c3cba9b0",
   "metadata": {},
   "outputs": [],
   "source": [
    "from context_analysis.load import load_spike_proba\n",
    "from context_analysis.onep.preprocessing import align_to_block\n",
    "from context_analysis.onep.reshape import pivot\n",
    "from onep.distance import pairwise_correlation\n",
    "import numpy as np\n",
    "import pandas as pd\n",
    "import networkx as nx\n",
    "import seaborn as sns\n",
    "import matplotlib.pyplot as plt"
   ]
  },
  {
   "cell_type": "code",
   "execution_count": 4,
   "id": "c12aa7ba",
   "metadata": {},
   "outputs": [],
   "source": [
    "def load(session_name, exp_mouse, no_shock_mouse):\n",
    "    proba = load_spike_proba(experiment=\"pfc\", session_names=[session_name])\n",
    "    proba = align_to_block(proba, session_name).dropna()\n",
    "    exp = proba.loc[lambda x: x.mouse == exp_mouse].copy()\n",
    "    no_shock = proba.loc[lambda x: x.mouse == no_shock_mouse].copy()\n",
    "    return exp, no_shock"
   ]
  },
  {
   "cell_type": "code",
   "execution_count": 250,
   "id": "46874dc7",
   "metadata": {},
   "outputs": [],
   "source": [
    "test1_exp_mouse = \"B51618\"\n",
    "test1_no_shock = \"B58216\"\n",
    "session_name = \"day4-test1\"\n",
    "\n",
    "exp, no_shock = load(session_name, test1_exp_mouse, test1_no_shock)"
   ]
  },
  {
   "cell_type": "code",
   "execution_count": 251,
   "id": "ee77c27c",
   "metadata": {},
   "outputs": [],
   "source": [
    "first_block = exp.loc[lambda x: x.bin_idx == 4]"
   ]
  },
  {
   "cell_type": "code",
   "execution_count": 252,
   "id": "857e1467",
   "metadata": {},
   "outputs": [],
   "source": [
    "corr = pairwise_correlation(first_block, norm_method=None)"
   ]
  },
  {
   "cell_type": "code",
   "execution_count": 253,
   "id": "180d9533",
   "metadata": {},
   "outputs": [],
   "source": [
    "links = corr.loc[lambda x: x.value > 0.2]\n",
    "G = nx.from_pandas_edgelist(links, \"neuron_1\", \"neuron_2\")"
   ]
  },
  {
   "cell_type": "code",
   "execution_count": 254,
   "id": "67e1b52c",
   "metadata": {},
   "outputs": [
    {
     "data": {
      "image/png": "[encoded data removed]",
      "text/plain": [
       "<Figure size 640x480 with 1 Axes>"
      ]
     },
     "metadata": {},
     "output_type": "display_data"
    }
   ],
   "source": [
    "values = [v for v in nx.clustering(G).values()]\n",
    "plt.hist(values)\n",
    "plt.show()"
   ]
  },
  {
   "cell_type": "code",
   "execution_count": 255,
   "id": "ebfd92a5",
   "metadata": {},
   "outputs": [],
   "source": [
    "first_block = exp.loc[lambda x: x.bin_idx == 5]\n",
    "corr = pairwise_correlation(first_block, norm_method=None)\n",
    "\n",
    "links = corr.loc[lambda x: x.value > 0.2]\n",
    "G = nx.from_pandas_edgelist(links, \"neuron_1\", \"neuron_2\")"
   ]
  },
  {
   "cell_type": "code",
   "execution_count": 256,
   "id": "5cfca862",
   "metadata": {},
   "outputs": [
    {
     "data": {
      "image/png": "[encoded data removed]",
      "text/plain": [
       "<Figure size 640x480 with 1 Axes>"
      ]
     },
     "metadata": {},
     "output_type": "display_data"
    }
   ],
   "source": [
    "values = [v for v in nx.eigenvector_centrality(G).values()]\n",
    "plt.hist(values)\n",
    "plt.show()"
   ]
  },
  {
   "cell_type": "code",
   "execution_count": null,
   "id": "a27883fc",
   "metadata": {},
   "outputs": [],
   "source": [
    "def get_graph_metric(df, graph_function, corr_thresh=0.2, gaussian_sigma=None, norm_method=None):\n",
    "    G = make_graph(df, corr_thresh=0.2, gaussian_sigma=None, norm_method=None)\n",
    "    res = graph_function(G)\n",
    "    return res\n",
    "    \n",
    "def make_graph(df, corr_thresh=0.2, gaussian_sigma=None, norm_method=None):\n",
    "    corr = pairwise_correlation(df, norm_method=norm_method, gaussian_sigma=gaussian_sigma)\n",
    "    links = corr.loc[lambda x: x.value >= corr_thresh]\n",
    "    G = nx.from_pandas_edgelist(links, \"neuron_1\", \"neuron_2\")\n",
    "    return G"
   ]
  },
  {
   "cell_type": "code",
   "execution_count": null,
   "id": "04de18bd",
   "metadata": {},
   "outputs": [],
   "source": []
  }
 ],
 "metadata": {
  "kernelspec": {
   "display_name": "Python 3",
   "language": "python",
   "name": "python3"
  },
  "language_info": {
   "codemirror_mode": {
    "name": "ipython",
    "version": 3
   },
   "file_extension": ".py",
   "mimetype": "text/x-python",
   "name": "python",
   "nbconvert_exporter": "python",
   "pygments_lexer": "ipython3",
   "version": "3.9.6"
  }
 },
 "nbformat": 4,
 "nbformat_minor": 5
}
