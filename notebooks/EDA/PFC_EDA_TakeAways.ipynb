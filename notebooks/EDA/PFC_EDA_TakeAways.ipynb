{
 "cells": [
  {
   "cell_type": "markdown",
   "id": "df91069f",
   "metadata": {},
   "source": [
    "# Exploratory Analysis\n",
    "\n",
    "In this notebook, I will..."
   ]
  },
  {
   "cell_type": "code",
   "execution_count": null,
   "id": "44ab8733",
   "metadata": {},
   "outputs": [],
   "source": []
  },
  {
   "cell_type": "code",
   "execution_count": null,
   "id": "37f3f991",
   "metadata": {},
   "outputs": [],
   "source": []
  },
  {
   "cell_type": "code",
   "execution_count": null,
   "id": "5a5d4545",
   "metadata": {},
   "outputs": [],
   "source": []
  },
  {
   "cell_type": "markdown",
   "id": "c6152c26",
   "metadata": {},
   "source": [
    "# Behavioural Dataset\n",
    "\n",
    "### Number of mice"
   ]
  },
  {
   "cell_type": "code",
   "execution_count": null,
   "id": "d97b53ce",
   "metadata": {},
   "outputs": [],
   "source": [
    "get_num_mice_by_group()\n",
    "plot_num_mice_by_group()"
   ]
  },
  {
   "cell_type": "code",
   "execution_count": null,
   "id": "fbc8338c",
   "metadata": {},
   "outputs": [],
   "source": [
    "get_num_mice_by_session_by_group()\n",
    "plot_num_mice_by_session_by_group()"
   ]
  },
  {
   "cell_type": "markdown",
   "id": "05330a5e",
   "metadata": {},
   "source": [
    "### Cylinder behaviour"
   ]
  },
  {
   "cell_type": "code",
   "execution_count": null,
   "id": "c9985802",
   "metadata": {},
   "outputs": [],
   "source": [
    "play_cyl_freeze_video()\n",
    "plot_motion_freeze()"
   ]
  },
  {
   "cell_type": "markdown",
   "id": "add0883e",
   "metadata": {},
   "source": [
    "### EPM behaviour"
   ]
  },
  {
   "cell_type": "code",
   "execution_count": null,
   "id": "619c01da",
   "metadata": {},
   "outputs": [],
   "source": [
    "play_epm_zone_video()\n",
    "plot_epm_trajectory_color_zone()"
   ]
  },
  {
   "cell_type": "markdown",
   "id": "26a1ef31",
   "metadata": {},
   "source": [
    "# Neuronal Dataset\n",
    "\n",
    "### Methods"
   ]
  },
  {
   "cell_type": "code",
   "execution_count": null,
   "id": "ca127556",
   "metadata": {},
   "outputs": [],
   "source": [
    "display_implant_site()\n",
    "display_schematic()"
   ]
  },
  {
   "cell_type": "markdown",
   "id": "a685066a",
   "metadata": {},
   "source": [
    "### Number of Neurons"
   ]
  },
  {
   "cell_type": "code",
   "execution_count": null,
   "id": "be603ece",
   "metadata": {},
   "outputs": [],
   "source": [
    "get_num_neurons_by_mouse_by_group()\n",
    "plot_num_neurons_by_mouse_by_group()"
   ]
  },
  {
   "cell_type": "code",
   "execution_count": null,
   "id": "65be7c44",
   "metadata": {},
   "outputs": [],
   "source": [
    "get_num_neurons_by_mouse_by_session_by_group()\n",
    "plot_num_neurons_by_mouse_by_session_by_group()"
   ]
  },
  {
   "cell_type": "markdown",
   "id": "1b9933af",
   "metadata": {},
   "source": [
    "### Same Neurons Over Days"
   ]
  },
  {
   "cell_type": "code",
   "execution_count": null,
   "id": "1efc0708",
   "metadata": {},
   "outputs": [],
   "source": [
    "display_contours_on_two_days()\n",
    "plot_spike_proba_on_two_days()"
   ]
  },
  {
   "cell_type": "code",
   "execution_count": null,
   "id": "cce3ca41",
   "metadata": {},
   "outputs": [],
   "source": [
    "get_longtitudinal_matrix()\n",
    "plot_longtitudinal_matrix()"
   ]
  },
  {
   "cell_type": "code",
   "execution_count": null,
   "id": "ceb83761",
   "metadata": {},
   "outputs": [],
   "source": [
    "get_longtitudinal_odds_by_session_length()\n",
    "plot_longtitudinal_odds_by_session_length()"
   ]
  },
  {
   "cell_type": "markdown",
   "id": "1cc1216d",
   "metadata": {},
   "source": [
    "### Data format comparisons"
   ]
  },
  {
   "cell_type": "code",
   "execution_count": null,
   "id": "d7955fc7",
   "metadata": {},
   "outputs": [],
   "source": [
    "plot_traces_spike_proba_spikes_same_neuron()\n",
    "plot_traces_spike_proba_spikes_same_neuron()"
   ]
  },
  {
   "cell_type": "markdown",
   "id": "bfb46c90",
   "metadata": {},
   "source": [
    "# Conditioning"
   ]
  },
  {
   "cell_type": "code",
   "execution_count": null,
   "id": "eaaab200",
   "metadata": {},
   "outputs": [],
   "source": []
  },
  {
   "cell_type": "code",
   "execution_count": null,
   "id": "06007593",
   "metadata": {},
   "outputs": [],
   "source": []
  },
  {
   "cell_type": "code",
   "execution_count": null,
   "id": "13628ee7",
   "metadata": {},
   "outputs": [],
   "source": []
  },
  {
   "cell_type": "markdown",
   "id": "9643604b",
   "metadata": {},
   "source": [
    "# Context-Switch Testing"
   ]
  },
  {
   "cell_type": "code",
   "execution_count": null,
   "id": "68d6ac7c",
   "metadata": {},
   "outputs": [],
   "source": []
  },
  {
   "cell_type": "code",
   "execution_count": null,
   "id": "a7ca2a29",
   "metadata": {},
   "outputs": [],
   "source": []
  },
  {
   "cell_type": "code",
   "execution_count": null,
   "id": "36315f07",
   "metadata": {},
   "outputs": [],
   "source": []
  },
  {
   "cell_type": "markdown",
   "id": "1df24b12",
   "metadata": {},
   "source": [
    "# Structure of Neuronal Data"
   ]
  },
  {
   "cell_type": "code",
   "execution_count": null,
   "id": "9129474e",
   "metadata": {},
   "outputs": [],
   "source": []
  },
  {
   "cell_type": "code",
   "execution_count": null,
   "id": "ca06ceeb",
   "metadata": {},
   "outputs": [],
   "source": []
  },
  {
   "cell_type": "code",
   "execution_count": null,
   "id": "1a9a2cb0",
   "metadata": {},
   "outputs": [],
   "source": []
  },
  {
   "cell_type": "code",
   "execution_count": null,
   "id": "54469a8d",
   "metadata": {},
   "outputs": [],
   "source": []
  }
 ],
 "metadata": {
  "kernelspec": {
   "display_name": "Python 3",
   "language": "python",
   "name": "python3"
  },
  "language_info": {
   "codemirror_mode": {
    "name": "ipython",
    "version": 3
   },
   "file_extension": ".py",
   "mimetype": "text/x-python",
   "name": "python",
   "nbconvert_exporter": "python",
   "pygments_lexer": "ipython3",
   "version": "3.9.6"
  }
 },
 "nbformat": 4,
 "nbformat_minor": 5
}
