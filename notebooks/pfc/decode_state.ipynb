{
 "cells": [
  {
   "cell_type": "code",
   "execution_count": 5,
   "metadata": {},
   "outputs": [],
   "source": [
    "import numpy as np\n",
    "import pandas as pd\n",
    "import matplotlib.pyplot as plt\n",
    "from context_analysis.load import load_spike_proba\n",
    "from context_analysis.reshape import split_by_group\n",
    "from context_analysis.resample import downsample\n",
    "from context_analysis.onep.preprocessing import block_from_time, remove_nan_ys, remove_mixed_ys\n",
    "from context_analysis.onep.reshape import pivot\n",
    "from sklearn.base import BaseEstimator, clone\n",
    "from sklearn.linear_model import LogisticRegression\n",
    "from sklearn.pipeline import Pipeline\n",
    "from sklearn.preprocessing import StandardScaler\n",
    "from sklearn.model_selection import train_test_split, TimeSeriesSplit, cross_val_score"
   ]
  },
  {
   "cell_type": "code",
   "execution_count": 6,
   "metadata": {},
   "outputs": [],
   "source": [
    "def get_X_y(df, resample_interval, session_name, time_col=\"time\", value_col=\"value\", cell_col=\"cell_id\", dropna=True):\n",
    "    X = pivot(df, cell_col=cell_col, value_col=\"value\", )\n",
    "    X = downsample(X.reset_index(), time_col=time_col, new_interval=resample_interval)\n",
    "    X = X.dropna()\n",
    "    y = block_from_time(df=X, session_name=session_name)\n",
    "    X = X.set_index(\"time\")\n",
    "    X, y = remove_nan_ys(X, y)\n",
    "    X, y = remove_mixed_ys(X, y)\n",
    "    return X, y\n",
    "\n",
    "def fit_model(X, y, pipe):\n",
    "    test_size = int(len(X) * 0.75)\n",
    "    cv = TimeSeriesSplit(test_size=0.7, n_splits=5)\n",
    "    score = cross_val_score(pipe, X, y, scoring='f1_macro')\n",
    "    return score\n"
   ]
  },
  {
   "cell_type": "markdown",
   "metadata": {},
   "source": [
    "#### Test2"
   ]
  },
  {
   "cell_type": "code",
   "execution_count": 12,
   "metadata": {},
   "outputs": [],
   "source": [
    "session_name = \"day4-test1\"\n",
    "exp = \"pfc\""
   ]
  },
  {
   "cell_type": "code",
   "execution_count": 13,
   "metadata": {},
   "outputs": [],
   "source": [
    "df = load_spike_proba(experiment=exp, session_names=[session_name])\n",
    "df = df.dropna()\n",
    "exp, one, no = split_by_group(df)"
   ]
  },
  {
   "cell_type": "code",
   "execution_count": 15,
   "metadata": {},
   "outputs": [],
   "source": [
    "resample_interval = \"500ms\"\n",
    "\n",
    "clf = LogisticRegression(C=0.01, penalty=\"elasticnet\", solver='saga', l1_ratio=0.3)\n",
    "pipe = Pipeline([\n",
    "    (\"clf\", clf)\n",
    "])"
   ]
  },
  {
   "cell_type": "code",
   "execution_count": 23,
   "metadata": {},
   "outputs": [
    {
     "data": {
      "text/plain": [
       "array([0.98257501, 0.97560976, 0.9686274 , 0.96515299, 0.96848485])"
      ]
     },
     "execution_count": 23,
     "metadata": {},
     "output_type": "execute_result"
    }
   ],
   "source": [
    "X, y = get_X_y(exp, resample_interval=\"500ms\", session_name=session_name)\n",
    "fit_model(X, y, clone(pipe))"
   ]
  },
  {
   "cell_type": "code",
   "execution_count": 24,
   "metadata": {},
   "outputs": [
    {
     "data": {
      "text/plain": [
       "array([0.97908773, 0.95464877, 0.96167061, 0.94416886, 0.72590618])"
      ]
     },
     "execution_count": 24,
     "metadata": {},
     "output_type": "execute_result"
    }
   ],
   "source": [
    "X, y = get_X_y(no, resample_interval=\"500ms\", session_name=session_name)\n",
    "fit_model(X, y, clone(pipe))"
   ]
  },
  {
   "cell_type": "code",
   "execution_count": 25,
   "metadata": {},
   "outputs": [
    {
     "data": {
      "text/plain": [
       "array([0.33410673, 0.25846702, 0.33333333, 0.3547387 , 0.44434481])"
      ]
     },
     "execution_count": 25,
     "metadata": {},
     "output_type": "execute_result"
    }
   ],
   "source": [
    "X, y = get_X_y(one, resample_interval=\"500ms\", session_name=session_name)\n",
    "fit_model(X, y, clone(pipe))"
   ]
  },
  {
   "cell_type": "markdown",
   "metadata": {},
   "source": [
    "#### Test2"
   ]
  },
  {
   "cell_type": "code",
   "execution_count": 29,
   "metadata": {},
   "outputs": [],
   "source": [
    "session_name = \"day5-test2\"\n",
    "df = load_spike_proba(experiment=\"pfc\", session_names=[session_name])\n",
    "df = df.dropna()\n",
    "exp, one, no = split_by_group(df)"
   ]
  },
  {
   "cell_type": "code",
   "execution_count": null,
   "metadata": {},
   "outputs": [],
   "source": []
  },
  {
   "cell_type": "code",
   "execution_count": 62,
   "metadata": {},
   "outputs": [],
   "source": [
    "clf = LogisticRegression(C=0.8, penalty=\"elasticnet\", solver='saga', l1_ratio=0.5)\n",
    "pipe = Pipeline([\n",
    "    (\"clf\", clf)\n",
    "])"
   ]
  },
  {
   "cell_type": "code",
   "execution_count": 63,
   "metadata": {},
   "outputs": [
    {
     "data": {
      "text/plain": [
       "array([0.75432045, 0.70347275, 0.76461876, 0.74102527, 0.6492519 ])"
      ]
     },
     "execution_count": 63,
     "metadata": {},
     "output_type": "execute_result"
    }
   ],
   "source": [
    "X, y = get_X_y(exp, resample_interval=\"500ms\", session_name=session_name)\n",
    "fit_model(X, y, clone(pipe))"
   ]
  },
  {
   "cell_type": "code",
   "execution_count": 64,
   "metadata": {},
   "outputs": [
    {
     "data": {
      "text/plain": [
       "array([0.97210884, 0.9721251 , 0.958147  , 0.94764366, 0.94744386])"
      ]
     },
     "execution_count": 64,
     "metadata": {},
     "output_type": "execute_result"
    }
   ],
   "source": [
    "X, y = get_X_y(no, resample_interval=\"500ms\", session_name=session_name)\n",
    "fit_model(X, y, clone(pipe))"
   ]
  },
  {
   "cell_type": "code",
   "execution_count": 65,
   "metadata": {},
   "outputs": [
    {
     "name": "stderr",
     "output_type": "stream",
     "text": [
      "C:\\Users\\roryl\\.conda\\envs\\cyl\\lib\\site-packages\\sklearn\\linear_model\\_sag.py:328: ConvergenceWarning: The max_iter was reached which means the coef_ did not converge\n",
      "  warnings.warn(\"The max_iter was reached which means \"\n",
      "C:\\Users\\roryl\\.conda\\envs\\cyl\\lib\\site-packages\\sklearn\\linear_model\\_sag.py:328: ConvergenceWarning: The max_iter was reached which means the coef_ did not converge\n",
      "  warnings.warn(\"The max_iter was reached which means \"\n",
      "C:\\Users\\roryl\\.conda\\envs\\cyl\\lib\\site-packages\\sklearn\\linear_model\\_sag.py:328: ConvergenceWarning: The max_iter was reached which means the coef_ did not converge\n",
      "  warnings.warn(\"The max_iter was reached which means \"\n"
     ]
    },
    {
     "data": {
      "text/plain": [
       "array([0.46982759, 0.59618686, 0.54690081, 0.65721005, 0.65731579])"
      ]
     },
     "execution_count": 65,
     "metadata": {},
     "output_type": "execute_result"
    }
   ],
   "source": [
    "X, y = get_X_y(one, resample_interval=\"500ms\", session_name=session_name)\n",
    "fit_model(X, y, clone(pipe))"
   ]
  },
  {
   "cell_type": "markdown",
   "metadata": {},
   "source": [
    "# One model per Mouse"
   ]
  },
  {
   "cell_type": "code",
   "execution_count": 7,
   "metadata": {},
   "outputs": [],
   "source": [
    "from sklearn.model_selection import TimeSeriesSplit\n",
    "\n",
    "def get_X_y(df, resample_interval, session_name, time_col=\"time\", value_col=\"value\", cell_col=\"cell_id\", dropna=True):\n",
    "    X = pivot(df, cell_col=cell_col, value_col=\"value\", )\n",
    "    X = downsample(X.reset_index(), time_col=time_col, new_interval=resample_interval)\n",
    "    X = X.dropna()\n",
    "    y = block_from_time(df=X, session_name=session_name)\n",
    "    X = X.set_index(\"time\")\n",
    "    X, y = remove_nan_ys(X, y)\n",
    "    X, y = remove_mixed_ys(X, y)\n",
    "    return X, y\n",
    "\n",
    "def fit_model(X, y, pipe):\n",
    "#     X_train, X_test, y_train, y_test = train_test_split(X, y, shuffle=False)\n",
    "#     pipe.fit(X_train, y_train)\n",
    "#     y_hat = pipe.predict(X_test)\n",
    "    test_size = int(len(X) * 0.75)\n",
    "    cv = TimeSeriesSplit(test_size=0.7, n_splits=5)\n",
    "    score = cross_val_score(pipe, X, y, scoring='f1_macro')\n",
    "    return score.mean(), pipe\n",
    "\n",
    "\n",
    "def fit_model_per_mouse(\n",
    "    pipe, \n",
    "    traces_dict, \n",
    "    session_name, \n",
    "    resample_interval=\"500ms\", \n",
    "    time_col='time',\n",
    "    value_col='value',\n",
    "    cell_col='cell_id',\n",
    "):\n",
    "    all_scores = []\n",
    "    all_groups = []\n",
    "    all_mice = []\n",
    "    all_models = []\n",
    "    all_data_sizes = []\n",
    "    all_cell_sizes = []\n",
    "    for group in traces_dict.keys():\n",
    "#         print(f\"\\nGroup: {group}\")\n",
    "        mice = list(traces_dict[group].keys())\n",
    "        for mouse in mice:\n",
    "            t = traces_dict[group][mouse]\n",
    "            X, y = get_X_y(\n",
    "                t, \n",
    "                resample_interval=resample_interval, \n",
    "                session_name=session_name, \n",
    "                time_col=time_col,\n",
    "                cell_col=cell_col,\n",
    "                value_col=value_col,\n",
    "            )\n",
    "            try:\n",
    "                score, model = fit_model(X, y, clone(pipe))\n",
    "            except ValueError as e:\n",
    "                print(str(e))\n",
    "                score, model = np.nan, np.nan\n",
    "            all_scores.append(score)\n",
    "            all_models.append(model)\n",
    "            all_mice.append(mouse)\n",
    "            all_groups.append(group)\n",
    "            all_data_sizes.append(len(X))\n",
    "            all_cell_sizes.append(X.shape[1])\n",
    "    return pd.DataFrame({\"mouse\": all_mice, \"group\": all_groups, \"score\": all_scores, \n",
    "                        \"num_cells\": all_cell_sizes, \"num_datapoints\": all_data_sizes, \"model\": all_models,})\n",
    "            \n"
   ]
  },
  {
   "cell_type": "code",
   "execution_count": 8,
   "metadata": {},
   "outputs": [],
   "source": [
    "from context_analysis.reshape import split_by_group, split_by_mouse\n",
    "import warnings\n",
    "from sklearn import metrics\n",
    "from sklearn.tree import DecisionTreeClassifier\n",
    "from sklearn.ensemble import RandomForestClassifier\n",
    "from sklearn.svm import SVC"
   ]
  },
  {
   "cell_type": "code",
   "execution_count": 9,
   "metadata": {},
   "outputs": [],
   "source": [
    "session_name = \"day4-test1\"\n",
    "traces_test1 = load_spike_proba(experiment=\"pfc\", session_names=[session_name])\n",
    "traces_by_mouse_test1 = split_by_mouse(experiment=\"pfc\", df=traces_test1)"
   ]
  },
  {
   "cell_type": "code",
   "execution_count": 10,
   "metadata": {},
   "outputs": [],
   "source": [
    "# clf = LogisticRegression(C=0.01, penalty=\"elasticnet\", solver='saga', l1_ratio=0.3)\n",
    "clf = RandomForestClassifier(n_estimators=250, n_jobs=-1)\n",
    "# clf = DecisionTreeClassifier(max_depth=8)\n",
    "# clf = SVC(kernel=\"linear\")\n",
    "pipe = Pipeline([\n",
    "    (\"clf\", clf)\n",
    "])"
   ]
  },
  {
   "cell_type": "code",
   "execution_count": 11,
   "metadata": {},
   "outputs": [
    {
     "name": "stdout",
     "output_type": "stream",
     "text": [
      "Found array with 0 sample(s) (shape=(0,)) while a minimum of 1 is required.\n"
     ]
    }
   ],
   "source": [
    "resample_interval = \"500ms\"\n",
    "with warnings.catch_warnings():\n",
    "    warnings.simplefilter(\"ignore\")\n",
    "    res_test1 = fit_model_per_mouse(\n",
    "        pipe=clone(pipe), \n",
    "        traces_dict=traces_by_mouse_test1, \n",
    "        resample_interval=resample_interval,\n",
    "        session_name=session_name\n",
    "    )\n",
    "\n",
    "# df = pd.concat([res_test1.assign(session=\"test1\"), res_test2.assign(session=\"test2\")])"
   ]
  },
  {
   "cell_type": "code",
   "execution_count": 12,
   "metadata": {},
   "outputs": [
    {
     "data": {
      "text/html": [
       "<div>\n",
       "<style scoped>\n",
       "    .dataframe tbody tr th:only-of-type {\n",
       "        vertical-align: middle;\n",
       "    }\n",
       "\n",
       "    .dataframe tbody tr th {\n",
       "        vertical-align: top;\n",
       "    }\n",
       "\n",
       "    .dataframe thead th {\n",
       "        text-align: right;\n",
       "    }\n",
       "</style>\n",
       "<table border=\"1\" class=\"dataframe\">\n",
       "  <thead>\n",
       "    <tr style=\"text-align: right;\">\n",
       "      <th></th>\n",
       "      <th>mouse</th>\n",
       "      <th>group</th>\n",
       "      <th>score</th>\n",
       "      <th>num_cells</th>\n",
       "      <th>num_datapoints</th>\n",
       "      <th>model</th>\n",
       "    </tr>\n",
       "  </thead>\n",
       "  <tbody>\n",
       "    <tr>\n",
       "      <th>0</th>\n",
       "      <td>B51628</td>\n",
       "      <td>Experimental</td>\n",
       "      <td>0.635699</td>\n",
       "      <td>152</td>\n",
       "      <td>1434</td>\n",
       "      <td>(RandomForestClassifier(n_estimators=250, n_jo...</td>\n",
       "    </tr>\n",
       "    <tr>\n",
       "      <th>1</th>\n",
       "      <td>B51621</td>\n",
       "      <td>Experimental</td>\n",
       "      <td>0.608793</td>\n",
       "      <td>41</td>\n",
       "      <td>1434</td>\n",
       "      <td>(RandomForestClassifier(n_estimators=250, n_jo...</td>\n",
       "    </tr>\n",
       "    <tr>\n",
       "      <th>2</th>\n",
       "      <td>B51620</td>\n",
       "      <td>Experimental</td>\n",
       "      <td>0.613907</td>\n",
       "      <td>8</td>\n",
       "      <td>1434</td>\n",
       "      <td>(RandomForestClassifier(n_estimators=250, n_jo...</td>\n",
       "    </tr>\n",
       "    <tr>\n",
       "      <th>3</th>\n",
       "      <td>B51618</td>\n",
       "      <td>Experimental</td>\n",
       "      <td>0.974195</td>\n",
       "      <td>188</td>\n",
       "      <td>1434</td>\n",
       "      <td>(RandomForestClassifier(n_estimators=250, n_jo...</td>\n",
       "    </tr>\n",
       "    <tr>\n",
       "      <th>4</th>\n",
       "      <td>B51619</td>\n",
       "      <td>Experimental</td>\n",
       "      <td>NaN</td>\n",
       "      <td>0</td>\n",
       "      <td>0</td>\n",
       "      <td>NaN</td>\n",
       "    </tr>\n",
       "    <tr>\n",
       "      <th>5</th>\n",
       "      <td>B51622</td>\n",
       "      <td>No Shock</td>\n",
       "      <td>0.637558</td>\n",
       "      <td>38</td>\n",
       "      <td>1434</td>\n",
       "      <td>(RandomForestClassifier(n_estimators=250, n_jo...</td>\n",
       "    </tr>\n",
       "    <tr>\n",
       "      <th>6</th>\n",
       "      <td>B58216</td>\n",
       "      <td>No Shock</td>\n",
       "      <td>0.874248</td>\n",
       "      <td>55</td>\n",
       "      <td>1434</td>\n",
       "      <td>(RandomForestClassifier(n_estimators=250, n_jo...</td>\n",
       "    </tr>\n",
       "    <tr>\n",
       "      <th>7</th>\n",
       "      <td>B58217</td>\n",
       "      <td>No Shock</td>\n",
       "      <td>0.984656</td>\n",
       "      <td>37</td>\n",
       "      <td>1434</td>\n",
       "      <td>(RandomForestClassifier(n_estimators=250, n_jo...</td>\n",
       "    </tr>\n",
       "    <tr>\n",
       "      <th>8</th>\n",
       "      <td>B58215</td>\n",
       "      <td>No Shock</td>\n",
       "      <td>0.822272</td>\n",
       "      <td>439</td>\n",
       "      <td>1434</td>\n",
       "      <td>(RandomForestClassifier(n_estimators=250, n_jo...</td>\n",
       "    </tr>\n",
       "    <tr>\n",
       "      <th>9</th>\n",
       "      <td>B51629</td>\n",
       "      <td>One Context</td>\n",
       "      <td>0.581684</td>\n",
       "      <td>68</td>\n",
       "      <td>1434</td>\n",
       "      <td>(RandomForestClassifier(n_estimators=250, n_jo...</td>\n",
       "    </tr>\n",
       "    <tr>\n",
       "      <th>10</th>\n",
       "      <td>B57677</td>\n",
       "      <td>One Context</td>\n",
       "      <td>0.512853</td>\n",
       "      <td>382</td>\n",
       "      <td>1431</td>\n",
       "      <td>(RandomForestClassifier(n_estimators=250, n_jo...</td>\n",
       "    </tr>\n",
       "    <tr>\n",
       "      <th>11</th>\n",
       "      <td>B51630</td>\n",
       "      <td>One Context</td>\n",
       "      <td>0.631180</td>\n",
       "      <td>144</td>\n",
       "      <td>1434</td>\n",
       "      <td>(RandomForestClassifier(n_estimators=250, n_jo...</td>\n",
       "    </tr>\n",
       "    <tr>\n",
       "      <th>12</th>\n",
       "      <td>B51631</td>\n",
       "      <td>One Context</td>\n",
       "      <td>0.644210</td>\n",
       "      <td>247</td>\n",
       "      <td>1434</td>\n",
       "      <td>(RandomForestClassifier(n_estimators=250, n_jo...</td>\n",
       "    </tr>\n",
       "  </tbody>\n",
       "</table>\n",
       "</div>"
      ],
      "text/plain": [
       "     mouse         group     score  num_cells  num_datapoints  \\\n",
       "0   B51628  Experimental  0.635699        152            1434   \n",
       "1   B51621  Experimental  0.608793         41            1434   \n",
       "2   B51620  Experimental  0.613907          8            1434   \n",
       "3   B51618  Experimental  0.974195        188            1434   \n",
       "4   B51619  Experimental       NaN          0               0   \n",
       "5   B51622      No Shock  0.637558         38            1434   \n",
       "6   B58216      No Shock  0.874248         55            1434   \n",
       "7   B58217      No Shock  0.984656         37            1434   \n",
       "8   B58215      No Shock  0.822272        439            1434   \n",
       "9   B51629   One Context  0.581684         68            1434   \n",
       "10  B57677   One Context  0.512853        382            1431   \n",
       "11  B51630   One Context  0.631180        144            1434   \n",
       "12  B51631   One Context  0.644210        247            1434   \n",
       "\n",
       "                                                model  \n",
       "0   (RandomForestClassifier(n_estimators=250, n_jo...  \n",
       "1   (RandomForestClassifier(n_estimators=250, n_jo...  \n",
       "2   (RandomForestClassifier(n_estimators=250, n_jo...  \n",
       "3   (RandomForestClassifier(n_estimators=250, n_jo...  \n",
       "4                                                 NaN  \n",
       "5   (RandomForestClassifier(n_estimators=250, n_jo...  \n",
       "6   (RandomForestClassifier(n_estimators=250, n_jo...  \n",
       "7   (RandomForestClassifier(n_estimators=250, n_jo...  \n",
       "8   (RandomForestClassifier(n_estimators=250, n_jo...  \n",
       "9   (RandomForestClassifier(n_estimators=250, n_jo...  \n",
       "10  (RandomForestClassifier(n_estimators=250, n_jo...  \n",
       "11  (RandomForestClassifier(n_estimators=250, n_jo...  \n",
       "12  (RandomForestClassifier(n_estimators=250, n_jo...  "
      ]
     },
     "execution_count": 12,
     "metadata": {},
     "output_type": "execute_result"
    }
   ],
   "source": [
    "res_test1"
   ]
  },
  {
   "cell_type": "code",
   "execution_count": 13,
   "metadata": {},
   "outputs": [
    {
     "name": "stdout",
     "output_type": "stream",
     "text": [
      "Found array with 0 sample(s) (shape=(0,)) while a minimum of 1 is required.\n"
     ]
    }
   ],
   "source": [
    "session_name = \"day5-test2\"\n",
    "traces_test1 = load_spike_proba(experiment=\"pfc\", session_names=[session_name])\n",
    "traces_by_mouse_test1 = split_by_mouse(experiment=\"pfc\", df=traces_test1)\n",
    "\n",
    "# resample_interval = \"1s\"\n",
    "with warnings.catch_warnings():\n",
    "    warnings.simplefilter(\"ignore\")\n",
    "    res_test2 = fit_model_per_mouse(\n",
    "        pipe=clone(pipe), \n",
    "        traces_dict=traces_by_mouse_test1, \n",
    "        resample_interval=resample_interval,\n",
    "        session_name=session_name\n",
    "    )"
   ]
  },
  {
   "cell_type": "code",
   "execution_count": 14,
   "metadata": {},
   "outputs": [
    {
     "data": {
      "text/html": [
       "<div>\n",
       "<style scoped>\n",
       "    .dataframe tbody tr th:only-of-type {\n",
       "        vertical-align: middle;\n",
       "    }\n",
       "\n",
       "    .dataframe tbody tr th {\n",
       "        vertical-align: top;\n",
       "    }\n",
       "\n",
       "    .dataframe thead th {\n",
       "        text-align: right;\n",
       "    }\n",
       "</style>\n",
       "<table border=\"1\" class=\"dataframe\">\n",
       "  <thead>\n",
       "    <tr style=\"text-align: right;\">\n",
       "      <th></th>\n",
       "      <th>mouse</th>\n",
       "      <th>group</th>\n",
       "      <th>score</th>\n",
       "      <th>num_cells</th>\n",
       "      <th>num_datapoints</th>\n",
       "      <th>model</th>\n",
       "    </tr>\n",
       "  </thead>\n",
       "  <tbody>\n",
       "    <tr>\n",
       "      <th>0</th>\n",
       "      <td>B51628</td>\n",
       "      <td>Experimental</td>\n",
       "      <td>0.710134</td>\n",
       "      <td>171</td>\n",
       "      <td>1434</td>\n",
       "      <td>(RandomForestClassifier(n_estimators=250, n_jo...</td>\n",
       "    </tr>\n",
       "    <tr>\n",
       "      <th>1</th>\n",
       "      <td>B51621</td>\n",
       "      <td>Experimental</td>\n",
       "      <td>0.666643</td>\n",
       "      <td>40</td>\n",
       "      <td>1434</td>\n",
       "      <td>(RandomForestClassifier(n_estimators=250, n_jo...</td>\n",
       "    </tr>\n",
       "    <tr>\n",
       "      <th>2</th>\n",
       "      <td>B51620</td>\n",
       "      <td>Experimental</td>\n",
       "      <td>0.667499</td>\n",
       "      <td>15</td>\n",
       "      <td>1434</td>\n",
       "      <td>(RandomForestClassifier(n_estimators=250, n_jo...</td>\n",
       "    </tr>\n",
       "    <tr>\n",
       "      <th>3</th>\n",
       "      <td>B51618</td>\n",
       "      <td>Experimental</td>\n",
       "      <td>NaN</td>\n",
       "      <td>0</td>\n",
       "      <td>0</td>\n",
       "      <td>NaN</td>\n",
       "    </tr>\n",
       "    <tr>\n",
       "      <th>4</th>\n",
       "      <td>B51619</td>\n",
       "      <td>Experimental</td>\n",
       "      <td>0.766496</td>\n",
       "      <td>17</td>\n",
       "      <td>1434</td>\n",
       "      <td>(RandomForestClassifier(n_estimators=250, n_jo...</td>\n",
       "    </tr>\n",
       "    <tr>\n",
       "      <th>5</th>\n",
       "      <td>B51622</td>\n",
       "      <td>No Shock</td>\n",
       "      <td>0.610240</td>\n",
       "      <td>37</td>\n",
       "      <td>1434</td>\n",
       "      <td>(RandomForestClassifier(n_estimators=250, n_jo...</td>\n",
       "    </tr>\n",
       "    <tr>\n",
       "      <th>6</th>\n",
       "      <td>B58216</td>\n",
       "      <td>No Shock</td>\n",
       "      <td>0.915960</td>\n",
       "      <td>66</td>\n",
       "      <td>1434</td>\n",
       "      <td>(RandomForestClassifier(n_estimators=250, n_jo...</td>\n",
       "    </tr>\n",
       "    <tr>\n",
       "      <th>7</th>\n",
       "      <td>B58217</td>\n",
       "      <td>No Shock</td>\n",
       "      <td>0.994418</td>\n",
       "      <td>22</td>\n",
       "      <td>1434</td>\n",
       "      <td>(RandomForestClassifier(n_estimators=250, n_jo...</td>\n",
       "    </tr>\n",
       "    <tr>\n",
       "      <th>8</th>\n",
       "      <td>B58215</td>\n",
       "      <td>No Shock</td>\n",
       "      <td>0.874532</td>\n",
       "      <td>442</td>\n",
       "      <td>1434</td>\n",
       "      <td>(RandomForestClassifier(n_estimators=250, n_jo...</td>\n",
       "    </tr>\n",
       "    <tr>\n",
       "      <th>9</th>\n",
       "      <td>B51629</td>\n",
       "      <td>One Context</td>\n",
       "      <td>0.549931</td>\n",
       "      <td>75</td>\n",
       "      <td>1434</td>\n",
       "      <td>(RandomForestClassifier(n_estimators=250, n_jo...</td>\n",
       "    </tr>\n",
       "    <tr>\n",
       "      <th>10</th>\n",
       "      <td>B57677</td>\n",
       "      <td>One Context</td>\n",
       "      <td>0.565710</td>\n",
       "      <td>352</td>\n",
       "      <td>1434</td>\n",
       "      <td>(RandomForestClassifier(n_estimators=250, n_jo...</td>\n",
       "    </tr>\n",
       "    <tr>\n",
       "      <th>11</th>\n",
       "      <td>B51630</td>\n",
       "      <td>One Context</td>\n",
       "      <td>0.590177</td>\n",
       "      <td>141</td>\n",
       "      <td>1434</td>\n",
       "      <td>(RandomForestClassifier(n_estimators=250, n_jo...</td>\n",
       "    </tr>\n",
       "    <tr>\n",
       "      <th>12</th>\n",
       "      <td>B51631</td>\n",
       "      <td>One Context</td>\n",
       "      <td>0.524134</td>\n",
       "      <td>266</td>\n",
       "      <td>1434</td>\n",
       "      <td>(RandomForestClassifier(n_estimators=250, n_jo...</td>\n",
       "    </tr>\n",
       "  </tbody>\n",
       "</table>\n",
       "</div>"
      ],
      "text/plain": [
       "     mouse         group     score  num_cells  num_datapoints  \\\n",
       "0   B51628  Experimental  0.710134        171            1434   \n",
       "1   B51621  Experimental  0.666643         40            1434   \n",
       "2   B51620  Experimental  0.667499         15            1434   \n",
       "3   B51618  Experimental       NaN          0               0   \n",
       "4   B51619  Experimental  0.766496         17            1434   \n",
       "5   B51622      No Shock  0.610240         37            1434   \n",
       "6   B58216      No Shock  0.915960         66            1434   \n",
       "7   B58217      No Shock  0.994418         22            1434   \n",
       "8   B58215      No Shock  0.874532        442            1434   \n",
       "9   B51629   One Context  0.549931         75            1434   \n",
       "10  B57677   One Context  0.565710        352            1434   \n",
       "11  B51630   One Context  0.590177        141            1434   \n",
       "12  B51631   One Context  0.524134        266            1434   \n",
       "\n",
       "                                                model  \n",
       "0   (RandomForestClassifier(n_estimators=250, n_jo...  \n",
       "1   (RandomForestClassifier(n_estimators=250, n_jo...  \n",
       "2   (RandomForestClassifier(n_estimators=250, n_jo...  \n",
       "3                                                 NaN  \n",
       "4   (RandomForestClassifier(n_estimators=250, n_jo...  \n",
       "5   (RandomForestClassifier(n_estimators=250, n_jo...  \n",
       "6   (RandomForestClassifier(n_estimators=250, n_jo...  \n",
       "7   (RandomForestClassifier(n_estimators=250, n_jo...  \n",
       "8   (RandomForestClassifier(n_estimators=250, n_jo...  \n",
       "9   (RandomForestClassifier(n_estimators=250, n_jo...  \n",
       "10  (RandomForestClassifier(n_estimators=250, n_jo...  \n",
       "11  (RandomForestClassifier(n_estimators=250, n_jo...  \n",
       "12  (RandomForestClassifier(n_estimators=250, n_jo...  "
      ]
     },
     "execution_count": 14,
     "metadata": {},
     "output_type": "execute_result"
    }
   ],
   "source": [
    "res_test2"
   ]
  },
  {
   "cell_type": "code",
   "execution_count": 15,
   "metadata": {},
   "outputs": [
    {
     "ename": "NameError",
     "evalue": "name 'df' is not defined",
     "output_type": "error",
     "traceback": [
      "\u001b[1;31m---------------------------------------------------------------------------\u001b[0m",
      "\u001b[1;31mNameError\u001b[0m                                 Traceback (most recent call last)",
      "\u001b[1;32m<ipython-input-15-00cf07b74dcd>\u001b[0m in \u001b[0;36m<module>\u001b[1;34m\u001b[0m\n\u001b[1;32m----> 1\u001b[1;33m \u001b[0mdf\u001b[0m\u001b[1;33m\u001b[0m\u001b[1;33m\u001b[0m\u001b[0m\n\u001b[0m",
      "\u001b[1;31mNameError\u001b[0m: name 'df' is not defined"
     ]
    }
   ],
   "source": [
    "df"
   ]
  },
  {
   "cell_type": "code",
   "execution_count": null,
   "metadata": {},
   "outputs": [],
   "source": []
  }
 ],
 "metadata": {
  "interpreter": {
   "hash": "931c67f3d67c81c2a9a8a2f2e44420a4f8bb92e7428f2c348068d1e47b0e1e40"
  },
  "kernelspec": {
   "display_name": "Python 3",
   "language": "python",
   "name": "python3"
  },
  "language_info": {
   "codemirror_mode": {
    "name": "ipython",
    "version": 3
   },
   "file_extension": ".py",
   "mimetype": "text/x-python",
   "name": "python",
   "nbconvert_exporter": "python",
   "pygments_lexer": "ipython3",
   "version": "3.9.6"
  }
 },
 "nbformat": 4,
 "nbformat_minor": 2
}
