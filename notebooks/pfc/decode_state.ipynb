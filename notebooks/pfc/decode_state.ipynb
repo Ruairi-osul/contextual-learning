{
 "cells": [
  {
   "cell_type": "code",
   "execution_count": 729,
   "metadata": {},
   "outputs": [],
   "source": [
    "from sklearn.base import BaseEstimator, TransformerMixin\n",
    "import pandas as pd\n",
    "\n",
    "class PivotTransformer(BaseEstimator, TransformerMixin):\n",
    "    \n",
    "    def __init__(\n",
    "        self, \n",
    "        cell_col: str=\"cell_id\", \n",
    "        time_col: str=\"time\", \n",
    "        value_col: str='value',\n",
    "    ):\n",
    "        self.cell_col = cell_col\n",
    "        self.time_col = time_col\n",
    "        self.value_col = value_col\n",
    "    \n",
    "    def fit(self, X: pd.DataFrame, y=0):\n",
    "        return self\n",
    "    \n",
    "    def transform(self, X: pd.DataFrame):\n",
    "        return X.pivot(\n",
    "            index=self.time_col, columns=self.cell_col, values=self.value_col\n",
    "        )\n",
    "\n",
    "class FloatIndexDownsampler(BaseEstimator, TransformerMixin):\n",
    "    \n",
    "    def __init__(\n",
    "        self,\n",
    "        new_interval: str,\n",
    "        index_name: str = \"time\",\n",
    "    ):\n",
    "        self.new_interval = new_interval\n",
    "        self.index_name = index_name\n",
    "    \n",
    "    def fit(self, X: pd.DataFrame, y=0):\n",
    "        return self\n",
    "    \n",
    "    def transform(self, X: pd.DataFrame, y=0):\n",
    "        X = downsample(X.reset_index(), new_interval=self.new_interval)\n",
    "        X.set_index(self.index_name, inplace=True)\n",
    "        return X"
   ]
  },
  {
   "cell_type": "code",
   "execution_count": 744,
   "metadata": {},
   "outputs": [],
   "source": [
    "def y_from_X(df: pd.DataFrame, session_name: str, time_col: str = \"time\"):\n",
    "    df = align_to_block(df, session_name, time_col)\n",
    "    y = df[\"block\"]\n",
    "    return y\n",
    "\n",
    "def get_pivoted_X_y(\n",
    "    df: pd.DataFrame, \n",
    "    y_col: str,\n",
    "    session_name: str,\n",
    "    downsample_interval: str, \n",
    "    cell_col: str = \"cell_id\",\n",
    "    time_col: str = \"time\",\n",
    "    value_col: str = \"value\",\n",
    ") -> Tuple[pd.DataFrame, pd.Series]:\n",
    "    \n",
    "    df = df[[c for c in df.columns if c != y_col]]\n",
    "    pipe = Pipeline([\n",
    "        ('pivot', PivotTransformer(cell_col=cell_col, time_col=time_col, value_col=value_col)),\n",
    "        ('downsample', FloatIndexDownsampler(new_interval=downsample_interval, index_name=\"time\")),\n",
    "    ])\n",
    "    X = pipe.fit_transform(df)\n",
    "    y = y_from_X(X.reset_index(), time_col=time_col, session_name=session_name)\n",
    "    return X, y"
   ]
  },
  {
   "cell_type": "code",
   "execution_count": 547,
   "metadata": {},
   "outputs": [],
   "source": [
    "from spiketimes.df.binning import which_bin\n",
    "from context_analysis.load import load_traces, load_mice, load_spikes, load_behaviour\n",
    "from context_analysis.utils import align_to_block\n",
    "from context_analysis.onep.resample import downsample\n",
    "from context_analysis.onep.reshape import pivot\n",
    "from context_analysis.utils import split_by_group\n",
    "from typing import Tuple"
   ]
  },
  {
   "cell_type": "code",
   "execution_count": 669,
   "metadata": {},
   "outputs": [],
   "source": [
    "spikes = load_spikes(experiment=\"pfc\", session_names=[\"day4-test1\"])\n",
    "spikes = align_to_block(spikes, session_name=\"day4-test1\")"
   ]
  },
  {
   "cell_type": "code",
   "execution_count": 670,
   "metadata": {},
   "outputs": [],
   "source": [
    "dataset = spikes\n",
    "\n",
    "# split byt group\n",
    "exp, one, no = split_by_group(dataset)"
   ]
  },
  {
   "cell_type": "code",
   "execution_count": 707,
   "metadata": {},
   "outputs": [],
   "source": [
    "resample_interval = \"500ms\"\n",
    "num_splits = 10\n",
    "\n",
    "# clf = LogisticRegression(C=25000, penalty=\"elasticnet\", solver='saga', l1_ratio=0.2)\n",
    "# clf = RandomForestClassifier(n_estimators=500, n_jobs=-1)\n",
    "# clf = GradientBoostingClassifier(n_estimators=200)\n",
    "pipe = Pipeline([\n",
    "    (\"impute\", SimpleImputer()),\n",
    "    (\"scale\", StandardScaler()),\n",
    "#     ('decompose', PCA(20)),\n",
    "    (\"clf\", clf)\n",
    "])"
   ]
  },
  {
   "cell_type": "code",
   "execution_count": 708,
   "metadata": {},
   "outputs": [
    {
     "name": "stderr",
     "output_type": "stream",
     "text": [
      "C:\\Users\\roryl\\.conda\\envs\\cyl\\lib\\site-packages\\sklearn\\linear_model\\_sag.py:328: ConvergenceWarning: The max_iter was reached which means the coef_ did not converge\n",
      "  warnings.warn(\"The max_iter was reached which means \"\n"
     ]
    },
    {
     "data": {
      "text/plain": [
       "0.475"
      ]
     },
     "execution_count": 708,
     "metadata": {},
     "output_type": "execute_result"
    }
   ],
   "source": [
    "X, y = get_pivoted_X_y(exp, y_col=\"block\", session_name=\"day4-test1\", downsample_interval=resample_interval)\n",
    "X_train, X_test, y_train, y_test = train_test_split(X, y, shuffle=False)\n",
    "# cross_val_score(pipe, X_train, y_train, cv=KFold(num_splits))\n",
    "\n",
    "pipe.fit(X_train, y_train)\n",
    "pipe.score(X_test, y_test)\n",
    "# cross_val_score(pipe, X_train, y_train, cv=KFold(num_splits))"
   ]
  },
  {
   "cell_type": "code",
   "execution_count": 686,
   "metadata": {},
   "outputs": [
    {
     "data": {
      "text/plain": [
       "0.41944444444444445"
      ]
     },
     "execution_count": 686,
     "metadata": {},
     "output_type": "execute_result"
    }
   ],
   "source": [
    "X, y = get_pivoted_X_y(one, y_col=\"block\", session_name=\"day4-test1\", downsample_interval=resample_interval)\n",
    "X_train, X_test, y_train, y_test = train_test_split(X, y, shuffle=False)\n",
    "cross_val_score(pipe, X_train, y_train, cv=KFold(num_splits))\n",
    "pipe.fit(X_train, y_train)\n",
    "pipe.score(X_test, y_test)\n",
    "# cross_val_score(pipe, X_train, y_train, cv=KFold(num_splits))\n"
   ]
  },
  {
   "cell_type": "code",
   "execution_count": 687,
   "metadata": {},
   "outputs": [
    {
     "data": {
      "text/plain": [
       "0.6444444444444445"
      ]
     },
     "execution_count": 687,
     "metadata": {},
     "output_type": "execute_result"
    }
   ],
   "source": [
    "X, y = get_pivoted_X_y(no, y_col=\"block\", session_name=\"day4-test1\", downsample_interval=resample_interval)\n",
    "X_train, X_test, y_train, y_test = train_test_split(X, y, shuffle=True)\n",
    "cross_val_score(pipe, X_train, y_train, cv=KFold(num_splits))\n",
    "pipe.fit(X_train, y_train)\n",
    "pipe.score(X_test, y_test)\n",
    "# cross_val_score(pipe, X_train, y_train, cv=KFold(num_splits))"
   ]
  },
  {
   "cell_type": "code",
   "execution_count": 346,
   "metadata": {},
   "outputs": [],
   "source": [
    "resample_interval = \"500ms\"\n",
    "num_splits = 10\n",
    "\n",
    "clf = LogisticRegression(C=0.01, penalty=\"elasticnet\", solver='saga', l1_ratio=0.2)\n",
    "pipe = Pipeline([\n",
    "    (\"impute\", SimpleImputer()),\n",
    "    (\"scale\", StandardScaler()),\n",
    "#     ('decompose', PCA(20)),\n",
    "    (\"clf\", clf)\n",
    "])"
   ]
  },
  {
   "cell_type": "code",
   "execution_count": 350,
   "metadata": {},
   "outputs": [],
   "source": [
    "res = []"
   ]
  },
  {
   "cell_type": "code",
   "execution_count": 351,
   "metadata": {},
   "outputs": [],
   "source": [
    "X, y = get_pivoted_X_y(exp, y_col=\"block\", session_name=\"day4-test1\", downsample_interval=resample_interval)\n",
    "X_train, X_test, y_train, y_test = train_test_split(X, y, shuffle=False)\n",
    "\n",
    "pipe.fit(X_train, y_train)\n",
    "pipe.score(X_test, y_test)\n",
    "res.append(pipe.score(X_test, y_test))"
   ]
  },
  {
   "cell_type": "code",
   "execution_count": 352,
   "metadata": {},
   "outputs": [],
   "source": [
    "X, y = get_pivoted_X_y(one, y_col=\"block\", session_name=\"day4-test1\", downsample_interval=resample_interval)\n",
    "X_train, X_test, y_train, y_test = train_test_split(X, y, shuffle=False)\n",
    "\n",
    "pipe.fit(X_train, y_train)\n",
    "pipe.score(X_test, y_test)\n",
    "res.append(pipe.score(X_test, y_test))"
   ]
  },
  {
   "cell_type": "code",
   "execution_count": 353,
   "metadata": {},
   "outputs": [],
   "source": [
    "X, y = get_pivoted_X_y(no, y_col=\"block\", session_name=\"day4-test1\", downsample_interval=resample_interval)\n",
    "X_train, X_test, y_train, y_test = train_test_split(X, y, shuffle=False)\n",
    "\n",
    "pipe.fit(X_train, y_train)\n",
    "pipe.score(X_test, y_test)\n",
    "res.append(pipe.score(X_test, y_test))"
   ]
  },
  {
   "cell_type": "code",
   "execution_count": 359,
   "metadata": {},
   "outputs": [
    {
     "data": {
      "image/png": "[encoded data removed]",
      "text/plain": [
       "<Figure size 640x480 with 1 Axes>"
      ]
     },
     "metadata": {},
     "output_type": "display_data"
    }
   ],
   "source": [
    "pd.Series(res, index=[\"Experimental\", \"One Context\", \"No Shock\"]).plot(kind=\"bar\", color=\"black\")\n",
    "plt.title(\"Decoding Performance During Test-1\")\n",
    "plt.ylabel(\"Decoder Accuracy\")\n",
    "plt.axhline(0.5, label=\"chance\", color=\"grey\")\n",
    "plt.legend()\n",
    "plt.show()\n"
   ]
  },
  {
   "cell_type": "code",
   "execution_count": null,
   "metadata": {},
   "outputs": [],
   "source": [
    "# test2"
   ]
  },
  {
   "cell_type": "code",
   "execution_count": 720,
   "metadata": {},
   "outputs": [],
   "source": [
    "traces = load_traces(experiment=\"pfc\", session_names=[\"day5-test2\"])\n",
    "traces = align_to_block(traces, session_name=\"day5-test2\")"
   ]
  },
  {
   "cell_type": "code",
   "execution_count": 747,
   "metadata": {},
   "outputs": [],
   "source": [
    "traces = traces.loc[lambda x: x.block != \"mixed\"]"
   ]
  },
  {
   "cell_type": "code",
   "execution_count": 748,
   "metadata": {},
   "outputs": [],
   "source": [
    "exp, one, no = split_by_group(traces)"
   ]
  },
  {
   "cell_type": "code",
   "execution_count": 761,
   "metadata": {},
   "outputs": [],
   "source": [
    "resample_interval = \"500ms\"\n",
    "num_splits = 10\n",
    "res = []\n",
    "clf = LogisticRegression(C=0.01, penalty=\"elasticnet\", solver='saga', l1_ratio=0.3)\n",
    "pipe = Pipeline([\n",
    "    (\"impute\", SimpleImputer()),\n",
    "    (\"scale\", StandardScaler()),\n",
    "#     ('decompose', PCA(20)),\n",
    "    (\"clf\", clf)\n",
    "])"
   ]
  },
  {
   "cell_type": "code",
   "execution_count": 762,
   "metadata": {},
   "outputs": [
    {
     "data": {
      "text/plain": [
       "0.8722222222222222"
      ]
     },
     "execution_count": 762,
     "metadata": {},
     "output_type": "execute_result"
    }
   ],
   "source": [
    "X, y = get_pivoted_X_y(exp, y_col=\"block\", session_name=\"day5-test2\", downsample_interval=resample_interval)\n",
    "X_train, X_test, y_train, y_test = train_test_split(X, y, shuffle=False)\n",
    "\n",
    "pipe.fit(X_train, y_train)\n",
    "res.append(pipe.score(X_test, y_test))\n",
    "pipe.score(X_test, y_test)"
   ]
  },
  {
   "cell_type": "code",
   "execution_count": 763,
   "metadata": {},
   "outputs": [
    {
     "data": {
      "text/plain": [
       "0.24691358024691357"
      ]
     },
     "execution_count": 763,
     "metadata": {},
     "output_type": "execute_result"
    }
   ],
   "source": [
    "cells = pipe[\"clf\"].coef_.flatten()\n",
    "\n",
    "np.mean(np.abs(cells) > 0.001)"
   ]
  },
  {
   "cell_type": "code",
   "execution_count": 764,
   "metadata": {},
   "outputs": [
    {
     "data": {
      "text/plain": [
       "0.5055555555555555"
      ]
     },
     "execution_count": 764,
     "metadata": {},
     "output_type": "execute_result"
    }
   ],
   "source": [
    "X, y = get_pivoted_X_y(one, y_col=\"block\", session_name=\"day5-test2\", downsample_interval=resample_interval)\n",
    "X_train, X_test, y_train, y_test = train_test_split(X, y, shuffle=False)\n",
    "\n",
    "pipe.fit(X_train, y_train)\n",
    "res.append(pipe.score(X_test, y_test))\n",
    "pipe.score(X_test, y_test)"
   ]
  },
  {
   "cell_type": "code",
   "execution_count": 765,
   "metadata": {},
   "outputs": [
    {
     "data": {
      "text/plain": [
       "1.0"
      ]
     },
     "execution_count": 765,
     "metadata": {},
     "output_type": "execute_result"
    }
   ],
   "source": [
    "X, y = get_pivoted_X_y(no, y_col=\"block\", session_name=\"day5-test2\", downsample_interval=resample_interval)\n",
    "X_train, X_test, y_train, y_test = train_test_split(X, y, shuffle=False)\n",
    "\n",
    "pipe.fit(X_train, y_train)\n",
    "res.append(pipe.score(X_test, y_test))\n",
    "pipe.score(X_test, y_test)"
   ]
  },
  {
   "cell_type": "code",
   "execution_count": 773,
   "metadata": {},
   "outputs": [
    {
     "data": {
      "text/plain": [
       "array([3049, 111, 500, 3101, 3102, 2603, 2735, 1472, 1605, 864, 162, 987,\n",
       "       1037, 1633, 292, 1202, 567, 744, 1028, 254, 876, 843, 601, 667,\n",
       "       700, 1058, 722], dtype=object)"
      ]
     },
     "execution_count": 773,
     "metadata": {},
     "output_type": "execute_result"
    }
   ],
   "source": [
    "#cells \n",
    "cells = pipe[\"clf\"].coef_.flatten()\n",
    "\n",
    "# np.mean(np.abs(cells) > 0.001)\n",
    "np.array(X.columns)[np.abs(cells) > 0.001]"
   ]
  },
  {
   "cell_type": "code",
   "execution_count": null,
   "metadata": {},
   "outputs": [],
   "source": []
  },
  {
   "cell_type": "code",
   "execution_count": 635,
   "metadata": {},
   "outputs": [],
   "source": [
    "# cells = np.argsort(np.abs(pipe[\"clf\"].coef_)).flatten()[-5:]\n",
    "# sns.heatmap(X.iloc[:, cells].apply(zscore).transpose(), cmap=\"coolwarm\", vmin=-3, vmax=3)\n",
    "# plt.show()"
   ]
  },
  {
   "cell_type": "code",
   "execution_count": 636,
   "metadata": {},
   "outputs": [
    {
     "data": {
      "text/plain": [
       "0.10017574692442882"
      ]
     },
     "execution_count": 636,
     "metadata": {},
     "output_type": "execute_result"
    }
   ],
   "source": [
    "cells = pipe[\"clf\"].coef_.flatten()\n",
    "\n",
    "np.mean(np.abs(cells) > 0.001)"
   ]
  },
  {
   "cell_type": "code",
   "execution_count": 570,
   "metadata": {},
   "outputs": [
    {
     "data": {
      "image/png": "[encoded data removed]",
      "text/plain": [
       "<Figure size 640x480 with 1 Axes>"
      ]
     },
     "metadata": {},
     "output_type": "display_data"
    }
   ],
   "source": [
    "pd.Series(res, index=[\"Experimental\", \"One Context\", \"No Shock\"]).plot(kind=\"bar\", color=\"black\")\n",
    "plt.title(\"Decoding Performance During Test-2\")\n",
    "plt.ylabel(\"Decoder Accuracy\")\n",
    "plt.axhline(0.5, label=\"chance\", color=\"grey\")\n",
    "plt.legend()\n",
    "plt.show()\n"
   ]
  },
  {
   "cell_type": "code",
   "execution_count": null,
   "metadata": {},
   "outputs": [],
   "source": []
  },
  {
   "cell_type": "code",
   "execution_count": null,
   "metadata": {},
   "outputs": [],
   "source": []
  },
  {
   "cell_type": "code",
   "execution_count": null,
   "metadata": {},
   "outputs": [],
   "source": []
  },
  {
   "cell_type": "code",
   "execution_count": null,
   "metadata": {},
   "outputs": [],
   "source": []
  }
 ],
 "metadata": {
  "interpreter": {
   "hash": "931c67f3d67c81c2a9a8a2f2e44420a4f8bb92e7428f2c348068d1e47b0e1e40"
  },
  "kernelspec": {
   "display_name": "Python 3",
   "language": "python",
   "name": "python3"
  },
  "language_info": {
   "codemirror_mode": {
    "name": "ipython",
    "version": 3
   },
   "file_extension": ".py",
   "mimetype": "text/x-python",
   "name": "python",
   "nbconvert_exporter": "python",
   "pygments_lexer": "ipython3",
   "version": "3.9.6"
  }
 },
 "nbformat": 4,
 "nbformat_minor": 2
}
