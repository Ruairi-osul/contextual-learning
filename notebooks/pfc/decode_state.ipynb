{
 "cells": [
  {
   "cell_type": "code",
   "execution_count": 8,
   "metadata": {},
   "outputs": [],
   "source": [
    "import numpy as np\n",
    "import pandas as pd\n",
    "from context_analysis.load import load_traces, load_mice, load_spikes, load_behaviour\n",
    "from context_analysis.utils import split_by_group\n",
    "from context_analysis.onep.preprocessing import get_pivoted_X, block_from_time, remove_nan_ys, remove_mixed_ys\n",
    "from sklearn.base import BaseEstimator, clone\n",
    "from sklearn.linear_model import LogisticRegression\n",
    "from sklearn.pipeline import Pipeline\n",
    "from sklearn.impute import SimpleImputer\n",
    "from sklearn.preprocessing import StandardScaler\n",
    "from sklearn.model_selection import train_test_split"
   ]
  },
  {
   "cell_type": "code",
   "execution_count": 2,
   "metadata": {},
   "outputs": [],
   "source": [
    "def fit_model(df: pd.DataFrame, pipe: Pipeline, session_name: str, resample_interval: str =\"500ms\"):\n",
    "    X = get_pivoted_X(df, downsample_interval=resample_interval)\n",
    "    y = block_from_time(X.reset_index(), session_name=session_name,)\n",
    "    X, y = remove_nan_ys(X, y)\n",
    "    X, y = remove_mixed_ys(X, y)\n",
    "    X_train, X_test, y_train, y_test = train_test_split(X, y, shuffle=False)\n",
    "    pipe.fit(X_train, y_train)\n",
    "    score = pipe.score(X_test, y_test)\n",
    "    return score, pipe, np.array(X_train.columns)\n",
    "\n",
    "def get_model_coefs(model: BaseEstimator, cells: np.array):\n",
    "    coefs = model.coef_.flatten()\n",
    "    return pd.DataFrame({\"cell\": cells, \"coef\": coefs})"
   ]
  },
  {
   "cell_type": "markdown",
   "metadata": {},
   "source": [
    "### Decode Context\n",
    "\n",
    "#### Test 1"
   ]
  },
  {
   "cell_type": "code",
   "execution_count": 3,
   "metadata": {},
   "outputs": [],
   "source": [
    "session_name = \"day4-test1\""
   ]
  },
  {
   "cell_type": "code",
   "execution_count": 4,
   "metadata": {},
   "outputs": [],
   "source": [
    "traces_test1 = load_traces(experiment=\"pfc\", session_names=[session_name])"
   ]
  },
  {
   "cell_type": "code",
   "execution_count": 5,
   "metadata": {},
   "outputs": [],
   "source": [
    "exp, one, no = split_by_group(traces_test1)"
   ]
  },
  {
   "cell_type": "code",
   "execution_count": 6,
   "metadata": {},
   "outputs": [],
   "source": [
    "resample_interval = \"500ms\"\n",
    "num_splits = 10\n",
    "\n",
    "clf = LogisticRegression(C=0.01, penalty=\"elasticnet\", solver='saga', l1_ratio=0.3)\n",
    "pipe = Pipeline([\n",
    "    (\"impute\", SimpleImputer()),\n",
    "    (\"scale\", StandardScaler()),\n",
    "    (\"clf\", clf)\n",
    "])"
   ]
  },
  {
   "cell_type": "code",
   "execution_count": 11,
   "metadata": {},
   "outputs": [],
   "source": [
    "exp_score, exp_pipe, exp_cells = fit_model(exp, clone(pipe), session_name=session_name, resample_interval=resample_interval)\n",
    "one_score, one_pipe, one_cells = fit_model(one, clone(pipe), session_name=session_name, resample_interval=resample_interval)\n",
    "no_score, no_pipe, no_cells = fit_model(no, clone(pipe), session_name=session_name, resample_interval=resample_interval)\n",
    "\n",
    "scores_test1 = pd.Series({\"exp\": exp_score, \"one_context\": one_score, \"no_shock\": no_score})\n",
    "models_test1 = {\"exp\": exp_pipe, \"one_context\": one_pipe, \"no_shock\": no_pipe}\n",
    "cells_test1 = {\"exp\":exp_cells, \"one_context\":one_cells, \"no_shock\": no_cells}"
   ]
  },
  {
   "cell_type": "code",
   "execution_count": 12,
   "metadata": {},
   "outputs": [
    {
     "data": {
      "text/plain": [
       "<matplotlib.lines.Line2D at 0x1cb801052b0>"
      ]
     },
     "execution_count": 12,
     "metadata": {},
     "output_type": "execute_result"
    },
    {
     "data": {
      "image/png": "[encoded data removed]",
      "text/plain": [
       "<Figure size 432x288 with 1 Axes>"
      ]
     },
     "metadata": {
      "needs_background": "light"
     },
     "output_type": "display_data"
    }
   ],
   "source": [
    "ax = scores_test1.mul(100).plot(kind=\"bar\", color=\"black\")\n",
    "ax.axhline(50, color=\"grey\", linestyle=\"dashed\")"
   ]
  },
  {
   "cell_type": "markdown",
   "metadata": {},
   "source": [
    "#### Test 2"
   ]
  },
  {
   "cell_type": "code",
   "execution_count": 13,
   "metadata": {},
   "outputs": [],
   "source": [
    "session_name = \"day5-test2\""
   ]
  },
  {
   "cell_type": "code",
   "execution_count": 14,
   "metadata": {},
   "outputs": [],
   "source": [
    "traces_test2 = load_traces(experiment=\"pfc\", session_names=[session_name])"
   ]
  },
  {
   "cell_type": "code",
   "execution_count": 15,
   "metadata": {},
   "outputs": [],
   "source": [
    "exp, one, no = split_by_group(traces_test2)"
   ]
  },
  {
   "cell_type": "code",
   "execution_count": 16,
   "metadata": {},
   "outputs": [],
   "source": [
    "resample_interval = \"500ms\"\n",
    "num_splits = 10\n",
    "\n",
    "clf = LogisticRegression(C=0.01, penalty=\"elasticnet\", solver='saga', l1_ratio=0.2)\n",
    "pipe = Pipeline([\n",
    "    (\"impute\", SimpleImputer()),\n",
    "    (\"scale\", StandardScaler()),\n",
    "    (\"clf\", clf)\n",
    "])"
   ]
  },
  {
   "cell_type": "code",
   "execution_count": 17,
   "metadata": {},
   "outputs": [],
   "source": [
    "exp_score, exp_pipe, exp_cells = fit_model(exp, clone(pipe), session_name=session_name, resample_interval=resample_interval)\n",
    "one_score, one_pipe, one_cells = fit_model(one, clone(pipe), session_name=session_name, resample_interval=resample_interval)\n",
    "no_score, no_pipe, no_cells = fit_model(no, clone(pipe), session_name=session_name, resample_interval=resample_interval)\n",
    "\n",
    "scores_test2 = pd.Series({\"exp\": exp_score, \"one_context\": one_score, \"no_shock\": no_score})\n",
    "models_test2 = {\"exp\": exp_pipe, \"one_context\": one_pipe, \"no_shock\": no_pipe}\n",
    "cells_test2 = {\"exp\":exp_cells, \"one_context\":one_cells, \"no_shock\": no_cells}"
   ]
  },
  {
   "cell_type": "code",
   "execution_count": 18,
   "metadata": {},
   "outputs": [
    {
     "data": {
      "text/plain": [
       "<matplotlib.lines.Line2D at 0x1cb8008acd0>"
      ]
     },
     "execution_count": 18,
     "metadata": {},
     "output_type": "execute_result"
    },
    {
     "data": {
      "image/png": "[encoded data removed]",
      "text/plain": [
       "<Figure size 432x288 with 1 Axes>"
      ]
     },
     "metadata": {
      "needs_background": "light"
     },
     "output_type": "display_data"
    }
   ],
   "source": [
    "ax = scores_test2.mul(100).plot(kind=\"bar\", color=\"black\")\n",
    "ax.axhline(50, color=\"grey\", linestyle=\"dashed\")"
   ]
  },
  {
   "cell_type": "markdown",
   "metadata": {},
   "source": [
    "### Investigate Context Cells"
   ]
  },
  {
   "cell_type": "code",
   "execution_count": 19,
   "metadata": {},
   "outputs": [],
   "source": [
    "def num_non_zero(ser):\n",
    "    return np.sum(ser != 0)"
   ]
  },
  {
   "cell_type": "code",
   "execution_count": 20,
   "metadata": {},
   "outputs": [
    {
     "data": {
      "text/plain": [
       "0.34156378600823045"
      ]
     },
     "execution_count": 20,
     "metadata": {},
     "output_type": "execute_result"
    }
   ],
   "source": [
    "coef_dfs = {}\n",
    "for group in [\"exp\", \"no_shock\", \"one_context\"]:\n",
    "    coef_dfs[group] = get_model_coefs(model=models_test2[group][\"clf\"], cells=cells_test2[group])\n",
    "\n",
    "\n",
    "exp = num_non_zero(coef_dfs[\"exp\"][\"coef\"])\n",
    "exp / len(coef_dfs[\"exp\"])"
   ]
  },
  {
   "cell_type": "code",
   "execution_count": 21,
   "metadata": {},
   "outputs": [
    {
     "data": {
      "text/plain": [
       "134"
      ]
     },
     "execution_count": 21,
     "metadata": {},
     "output_type": "execute_result"
    }
   ],
   "source": [
    "one = num_non_zero(coef_dfs[\"one_context\"][\"coef\"])\n",
    "one"
   ]
  },
  {
   "cell_type": "code",
   "execution_count": 22,
   "metadata": {},
   "outputs": [
    {
     "data": {
      "text/plain": [
       "0.08289241622574955"
      ]
     },
     "execution_count": 22,
     "metadata": {},
     "output_type": "execute_result"
    }
   ],
   "source": [
    "no = num_non_zero(coef_dfs[\"no_shock\"][\"coef\"])\n",
    "no / len(coef_dfs[\"no_shock\"])"
   ]
  },
  {
   "cell_type": "code",
   "execution_count": 23,
   "metadata": {},
   "outputs": [],
   "source": [
    "no_shock = coef_dfs[\"no_shock\"]"
   ]
  },
  {
   "cell_type": "code",
   "execution_count": 24,
   "metadata": {},
   "outputs": [],
   "source": [
    "idx = no_shock.loc[lambda x: x.coef != 0].cell.values"
   ]
  },
  {
   "cell_type": "code",
   "execution_count": 25,
   "metadata": {},
   "outputs": [
    {
     "data": {
      "text/plain": [
       "mouse\n",
       "B51622     2\n",
       "B58215    20\n",
       "B58216    13\n",
       "B58217    12\n",
       "dtype: int64"
      ]
     },
     "execution_count": 25,
     "metadata": {},
     "output_type": "execute_result"
    }
   ],
   "source": [
    "traces_test2.loc[lambda x: x.cell_id.isin(idx)][[\"mouse\", \"cell_id\"]].drop_duplicates().groupby(\"mouse\").apply(len)"
   ]
  },
  {
   "cell_type": "code",
   "execution_count": null,
   "metadata": {},
   "outputs": [],
   "source": []
  },
  {
   "cell_type": "code",
   "execution_count": null,
   "metadata": {},
   "outputs": [],
   "source": []
  }
 ],
 "metadata": {
  "interpreter": {
   "hash": "931c67f3d67c81c2a9a8a2f2e44420a4f8bb92e7428f2c348068d1e47b0e1e40"
  },
  "kernelspec": {
   "display_name": "Python 3 (ipykernel)",
   "language": "python",
   "name": "python3"
  },
  "language_info": {
   "codemirror_mode": {
    "name": "ipython",
    "version": 3
   },
   "file_extension": ".py",
   "mimetype": "text/x-python",
   "name": "python",
   "nbconvert_exporter": "python",
   "pygments_lexer": "ipython3",
   "version": "3.9.6"
  }
 },
 "nbformat": 4,
 "nbformat_minor": 2
}
