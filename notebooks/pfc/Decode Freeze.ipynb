{
 "cells": [
  {
   "cell_type": "code",
   "execution_count": 11,
   "id": "94bb10e8",
   "metadata": {},
   "outputs": [],
   "source": [
    "from context_analysis.load import load_behaviour, load_traces, load_mice\n",
    "from context_analysis.reshape import split_by_group, split_by_mouse\n",
    "from context_analysis.resample import temporally_align_onep_behaviour\n",
    "from context_analysis.onep.reshape import pivot\n",
    "from sklearn.model_selection import train_test_split\n",
    "from sklearn.linear_model import LogisticRegression\n",
    "from sklearn.base import clone\n",
    "from sklearn.pipeline import Pipeline\n",
    "from sklearn.impute import SimpleImputer\n",
    "from sklearn.preprocessing import StandardScaler\n",
    "import sklearn.metrics as metrics\n",
    "import numpy as np\n",
    "import pandas as pd\n",
    "import seaborn as sns\n",
    "import warnings"
   ]
  },
  {
   "cell_type": "code",
   "execution_count": 2,
   "id": "19b2a20e",
   "metadata": {},
   "outputs": [],
   "source": [
    "def preprocess(traces, behaviour, time_interval, behaviour_metric=\"freeze_status\", round_metric: bool = True, time_col=\"time\"):\n",
    "    traces = pivot(traces)\n",
    "    traces, behaviour = temporally_align_onep_behaviour(\n",
    "    traces.reset_index(), behaviour[[\"time\", behaviour_metric]], new_interval=time_interval\n",
    "    )\n",
    "    if round_metric:\n",
    "        behaviour[behaviour_metric] = behaviour[behaviour_metric].round()\n",
    "    X = traces.set_index(\"time\")\n",
    "    y = behaviour.set_index(\"time\")[\"freeze_status\"]\n",
    "    return X, y\n",
    "\n",
    "\n",
    "\n",
    "def fit_model(X, y, pipe):\n",
    "    X_train, X_test, y_train, y_test = train_test_split(X, y, shuffle=False)\n",
    "\n",
    "    pipe.fit(X_train, y_train)\n",
    "    y_hat = pipe.predict(X_test)\n",
    "    score = metrics.f1_score(y_test, y_hat)\n",
    "    return score, pipe"
   ]
  },
  {
   "cell_type": "code",
   "execution_count": 3,
   "id": "27e0caeb",
   "metadata": {},
   "outputs": [],
   "source": [
    "def fit_model_per_mouse(pipe, traces_dict, behaviour_dict, time_interval=\"500ms\"):\n",
    "    all_scores = []\n",
    "    all_groups = []\n",
    "    all_mice = []\n",
    "    all_models = []\n",
    "    for group in behaviour_dict.keys():\n",
    "        mice = list(behaviour_dict[group].keys())\n",
    "        for mouse in mice:\n",
    "            t = traces_dict[group][mouse]\n",
    "            b = behaviour_dict[group][mouse]\n",
    "            X, y = preprocess(t, b, time_interval=time_interval)\n",
    "            try:\n",
    "                score, model = fit_model(X, y, clone(pipe))\n",
    "            except ValueError:\n",
    "                score, model = np.nan, np.nan\n",
    "            all_scores.append(score)\n",
    "            all_models.append(model)\n",
    "            all_mice.append(mouse)\n",
    "            all_groups.append(group)\n",
    "    return pd.DataFrame({\"mouse\": all_mice, \"group\": all_groups, \"score\": all_scores, \"model\": all_models})\n",
    "            "
   ]
  },
  {
   "cell_type": "code",
   "execution_count": 4,
   "id": "4744a3a5",
   "metadata": {},
   "outputs": [],
   "source": [
    "session_name = \"day4-test1\"\n",
    "traces_test1 = load_traces(experiment=\"pfc\", session_names=[session_name])\n",
    "behaviour_test1 = load_behaviour(experiment=\"pfc\", session_names=[session_name])\n",
    "behaviour_test1[\"time\"] = behaviour_test1[\"frame\"].mul(1/30)\n",
    "traces_by_mouse_test1 = split_by_mouse(experiment=\"pfc\", df=traces_test1)\n",
    "behaviour_by_mouse_test1 = split_by_mouse(experiment=\"pfc\", df=behaviour_test1)"
   ]
  },
  {
   "cell_type": "code",
   "execution_count": 5,
   "id": "034024d8",
   "metadata": {},
   "outputs": [],
   "source": [
    "session_name = \"day5-test2\"\n",
    "traces_test2 = load_traces(experiment=\"pfc\", session_names=[session_name])\n",
    "behaviour_test2 = load_behaviour(experiment=\"pfc\", session_names=[session_name])\n",
    "behaviour_test2[\"time\"] = behaviour_test2[\"frame\"].mul(1/30)\n",
    "traces_by_mouse_test2 = split_by_mouse(experiment=\"pfc\", df=traces_test2)\n",
    "behaviour_by_mouse_test2 = split_by_mouse(experiment=\"pfc\", df=behaviour_test2)"
   ]
  },
  {
   "cell_type": "code",
   "execution_count": 6,
   "id": "ed6a3f3d",
   "metadata": {},
   "outputs": [],
   "source": [
    "clf = LogisticRegression(C=1, penalty=\"elasticnet\", solver='saga', l1_ratio=0.1)\n",
    "pipe = Pipeline([\n",
    "    (\"impute\", SimpleImputer()),\n",
    "    (\"scale\", StandardScaler()),\n",
    "    (\"clf\", clf)\n",
    "])"
   ]
  },
  {
   "cell_type": "code",
   "execution_count": 33,
   "id": "470c5c10",
   "metadata": {},
   "outputs": [],
   "source": [
    "time_interval = \"1s\"\n",
    "with warnings.catch_warnings():\n",
    "    warnings.simplefilter(\"ignore\")\n",
    "    res_test1 = fit_model_per_mouse(clone(pipe), traces_by_mouse_test1, behaviour_by_mouse_test1, time_interval=time_interval)\n",
    "    res_test2 = fit_model_per_mouse(clone(pipe), traces_by_mouse_test2, behaviour_by_mouse_test2, time_interval=time_interval)\n",
    "\n",
    "df = pd.concat([res_test1.assign(session=\"test1\"), res_test2.assign(session=\"test2\")])"
   ]
  },
  {
   "cell_type": "code",
   "execution_count": 25,
   "id": "451f78b2",
   "metadata": {},
   "outputs": [],
   "source": [
    "# df = pd.DataFrame(scores).melt(var_name=\"group\", value_name=\"f1_score\")"
   ]
  },
  {
   "cell_type": "code",
   "execution_count": 34,
   "id": "b78cb8f6",
   "metadata": {},
   "outputs": [
    {
     "data": {
      "text/plain": [
       "<AxesSubplot:xlabel='group', ylabel='score'>"
      ]
     },
     "execution_count": 34,
     "metadata": {},
     "output_type": "execute_result"
    },
    {
     "data": {
      "image/png": "[encoded data removed]",
      "text/plain": [
       "<Figure size 432x288 with 1 Axes>"
      ]
     },
     "metadata": {
      "needs_background": "light"
     },
     "output_type": "display_data"
    }
   ],
   "source": [
    "ax = sns.stripplot(y=\"score\", x=\"group\", data=df,\n",
    "                   linewidth=1)\n",
    "\n",
    "sns.barplot(x=\"group\", y=\"score\", data=df, alpha=0.5)\n"
   ]
  },
  {
   "cell_type": "code",
   "execution_count": 35,
   "id": "097e7cd6",
   "metadata": {},
   "outputs": [
    {
     "data": {
      "text/html": [
       "<table class=\"simpletable\">\n",
       "<caption>OLS Regression Results</caption>\n",
       "<tr>\n",
       "  <th>Dep. Variable:</th>          <td>score</td>      <th>  R-squared:         </th> <td>   0.230</td>\n",
       "</tr>\n",
       "<tr>\n",
       "  <th>Model:</th>                   <td>OLS</td>       <th>  Adj. R-squared:    </th> <td>   0.157</td>\n",
       "</tr>\n",
       "<tr>\n",
       "  <th>Method:</th>             <td>Least Squares</td>  <th>  F-statistic:       </th> <td>   3.137</td>\n",
       "</tr>\n",
       "<tr>\n",
       "  <th>Date:</th>             <td>Fri, 03 Sep 2021</td> <th>  Prob (F-statistic):</th>  <td>0.0643</td> \n",
       "</tr>\n",
       "<tr>\n",
       "  <th>Time:</th>                 <td>11:02:36</td>     <th>  Log-Likelihood:    </th> <td>  4.6565</td>\n",
       "</tr>\n",
       "<tr>\n",
       "  <th>No. Observations:</th>      <td>    24</td>      <th>  AIC:               </th> <td>  -3.313</td>\n",
       "</tr>\n",
       "<tr>\n",
       "  <th>Df Residuals:</th>          <td>    21</td>      <th>  BIC:               </th> <td>  0.2211</td>\n",
       "</tr>\n",
       "<tr>\n",
       "  <th>Df Model:</th>              <td>     2</td>      <th>                     </th>     <td> </td>   \n",
       "</tr>\n",
       "<tr>\n",
       "  <th>Covariance Type:</th>      <td>nonrobust</td>    <th>                     </th>     <td> </td>   \n",
       "</tr>\n",
       "</table>\n",
       "<table class=\"simpletable\">\n",
       "<tr>\n",
       "            <td></td>              <th>coef</th>     <th>std err</th>      <th>t</th>      <th>P>|t|</th>  <th>[0.025</th>    <th>0.975]</th>  \n",
       "</tr>\n",
       "<tr>\n",
       "  <th>Intercept</th>            <td>    0.5608</td> <td>    0.075</td> <td>    7.445</td> <td> 0.000</td> <td>    0.404</td> <td>    0.717</td>\n",
       "</tr>\n",
       "<tr>\n",
       "  <th>group[T.No Shock]</th>    <td>   -0.2564</td> <td>    0.107</td> <td>   -2.407</td> <td> 0.025</td> <td>   -0.478</td> <td>   -0.035</td>\n",
       "</tr>\n",
       "<tr>\n",
       "  <th>group[T.One Context]</th> <td>   -0.0642</td> <td>    0.107</td> <td>   -0.602</td> <td> 0.553</td> <td>   -0.286</td> <td>    0.157</td>\n",
       "</tr>\n",
       "</table>\n",
       "<table class=\"simpletable\">\n",
       "<tr>\n",
       "  <th>Omnibus:</th>       <td> 0.115</td> <th>  Durbin-Watson:     </th> <td>   2.319</td>\n",
       "</tr>\n",
       "<tr>\n",
       "  <th>Prob(Omnibus):</th> <td> 0.944</td> <th>  Jarque-Bera (JB):  </th> <td>   0.328</td>\n",
       "</tr>\n",
       "<tr>\n",
       "  <th>Skew:</th>          <td>-0.079</td> <th>  Prob(JB):          </th> <td>   0.849</td>\n",
       "</tr>\n",
       "<tr>\n",
       "  <th>Kurtosis:</th>      <td> 2.449</td> <th>  Cond. No.          </th> <td>    3.73</td>\n",
       "</tr>\n",
       "</table><br/><br/>Notes:<br/>[1] Standard Errors assume that the covariance matrix of the errors is correctly specified."
      ],
      "text/plain": [
       "<class 'statsmodels.iolib.summary.Summary'>\n",
       "\"\"\"\n",
       "                            OLS Regression Results                            \n",
       "==============================================================================\n",
       "Dep. Variable:                  score   R-squared:                       0.230\n",
       "Model:                            OLS   Adj. R-squared:                  0.157\n",
       "Method:                 Least Squares   F-statistic:                     3.137\n",
       "Date:                Fri, 03 Sep 2021   Prob (F-statistic):             0.0643\n",
       "Time:                        11:02:36   Log-Likelihood:                 4.6565\n",
       "No. Observations:                  24   AIC:                            -3.313\n",
       "Df Residuals:                      21   BIC:                            0.2211\n",
       "Df Model:                           2                                         \n",
       "Covariance Type:            nonrobust                                         \n",
       "========================================================================================\n",
       "                           coef    std err          t      P>|t|      [0.025      0.975]\n",
       "----------------------------------------------------------------------------------------\n",
       "Intercept                0.5608      0.075      7.445      0.000       0.404       0.717\n",
       "group[T.No Shock]       -0.2564      0.107     -2.407      0.025      -0.478      -0.035\n",
       "group[T.One Context]    -0.0642      0.107     -0.602      0.553      -0.286       0.157\n",
       "==============================================================================\n",
       "Omnibus:                        0.115   Durbin-Watson:                   2.319\n",
       "Prob(Omnibus):                  0.944   Jarque-Bera (JB):                0.328\n",
       "Skew:                          -0.079   Prob(JB):                        0.849\n",
       "Kurtosis:                       2.449   Cond. No.                         3.73\n",
       "==============================================================================\n",
       "\n",
       "Notes:\n",
       "[1] Standard Errors assume that the covariance matrix of the errors is correctly specified.\n",
       "\"\"\""
      ]
     },
     "execution_count": 35,
     "metadata": {},
     "output_type": "execute_result"
    }
   ],
   "source": [
    "import statsmodels.formula.api as smf\n",
    "\n",
    "model = smf.ols(\"score ~ group\", data=df[[\"score\", \"group\", \"session\"]].dropna()).fit()\n",
    "model.summary()"
   ]
  },
  {
   "cell_type": "code",
   "execution_count": null,
   "id": "d6c03e55",
   "metadata": {},
   "outputs": [],
   "source": []
  },
  {
   "cell_type": "code",
   "execution_count": null,
   "id": "972f10a8",
   "metadata": {},
   "outputs": [],
   "source": []
  },
  {
   "cell_type": "code",
   "execution_count": null,
   "id": "299b3bff",
   "metadata": {},
   "outputs": [],
   "source": []
  },
  {
   "cell_type": "code",
   "execution_count": null,
   "id": "0cb83856",
   "metadata": {},
   "outputs": [],
   "source": []
  }
 ],
 "metadata": {
  "kernelspec": {
   "display_name": "Python 3 (ipykernel)",
   "language": "python",
   "name": "python3"
  },
  "language_info": {
   "codemirror_mode": {
    "name": "ipython",
    "version": 3
   },
   "file_extension": ".py",
   "mimetype": "text/x-python",
   "name": "python",
   "nbconvert_exporter": "python",
   "pygments_lexer": "ipython3",
   "version": "3.9.6"
  }
 },
 "nbformat": 4,
 "nbformat_minor": 5
}
